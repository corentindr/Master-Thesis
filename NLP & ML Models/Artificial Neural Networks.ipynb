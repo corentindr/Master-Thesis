{
  "cells": [
    {
      "cell_type": "code",
      "execution_count": null,
      "metadata": {
        "id": "Ybv1_TC4M5Zf"
      },
      "outputs": [],
      "source": [
        "import pandas as pd\n",
        "import numpy as np\n",
        "import seaborn as sns\n",
        "import matplotlib.pyplot as plt\n",
        "\n",
        "# Modelling\n",
        "from sklearn.neural_network import MLPClassifier\n",
        "from sklearn.metrics import accuracy_score, confusion_matrix, precision_score, recall_score, ConfusionMatrixDisplay\n",
        "from sklearn.model_selection import RandomizedSearchCV, train_test_split\n",
        "from scipy.stats import randint\n"
      ]
    },
    {
      "cell_type": "code",
      "source": [
        "import torch \n",
        "assert torch.cuda.is_available(), \"GPU not available\""
      ],
      "metadata": {
        "id": "kDtcO0J_TYhk"
      },
      "execution_count": null,
      "outputs": []
    },
    {
      "cell_type": "code",
      "execution_count": null,
      "metadata": {
        "id": "KXGBE5N0M5Zg"
      },
      "outputs": [],
      "source": [
        "#chargement du jeu de donnees\n",
        "wine_dataframe = pd.read_csv('datatest (1).csv', index_col=0)\n",
        "wine_dataframe = wine_dataframe.drop('URLS', axis=1)\n",
        "wine_dataframe = wine_dataframe.drop('Tranquille to Mousseux', axis=1)\n",
        "\n",
        "wine_dataframe['Léger to Puissant'] = wine_dataframe['Léger to Puissant'].str.replace(';', '')\n",
        "wine_dataframe['Souple to Tannique'] = wine_dataframe['Souple to Tannique'].str.replace(';', '')\n",
        "wine_dataframe['Sec to Moelleux'] = wine_dataframe['Sec to Moelleux'].str.replace(';', '')\n",
        "wine_dataframe['Doux to Acide'] = wine_dataframe['Doux to Acide'].str.replace(';', '')\n",
        "wine_dataframe['Léger to Puissant'] = wine_dataframe['Léger to Puissant'].astype(float)\n",
        "wine_dataframe['Souple to Tannique'] = wine_dataframe['Souple to Tannique'].astype(float)\n",
        "wine_dataframe['Sec to Moelleux'] = wine_dataframe['Sec to Moelleux'].astype(float)\n",
        "wine_dataframe['Doux to Acide'] = wine_dataframe['Doux to Acide'].astype(float)\n"
      ]
    },
    {
      "cell_type": "code",
      "execution_count": null,
      "metadata": {
        "colab": {
          "base_uri": "https://localhost:8080/"
        },
        "id": "DcVrMnahM5Zh",
        "outputId": "fbb8ad8c-9d0f-4f4b-ba3c-fdf7dfc4e25a"
      },
      "outputs": [
        {
          "output_type": "stream",
          "name": "stderr",
          "text": [
            "<ipython-input-24-2b05902bc529>:1: FutureWarning: The default value of regex will change from True to False in a future version.\n",
            "  wine_dataframe['Aromas'] = wine_dataframe['Aromas'].str.replace('/+', '+')\n",
            "<ipython-input-24-2b05902bc529>:2: FutureWarning: The default value of regex will change from True to False in a future version.\n",
            "  wine_dataframe['Aromas'] = wine_dataframe['Aromas'].str.replace(',+', '+')\n",
            "<ipython-input-24-2b05902bc529>:3: FutureWarning: The default value of regex will change from True to False in a future version.\n",
            "  wine_dataframe['Olphactive'] = wine_dataframe['Olphactive'].str.replace('/+', '+')\n",
            "<ipython-input-24-2b05902bc529>:4: FutureWarning: The default value of regex will change from True to False in a future version.\n",
            "  wine_dataframe['Olphactive'] = wine_dataframe['Olphactive'].str.replace(',+', '+')\n"
          ]
        },
        {
          "output_type": "stream",
          "name": "stdout",
          "text": [
            "       Léger to Puissant  Souple to Tannique  Sec to Moelleux  Doux to Acide\n",
            "count       35218.000000        35218.000000     35218.000000   35218.000000\n",
            "mean           39.965001           19.491293        19.386413      37.882006\n",
            "std            29.311771           23.718340        15.306354      28.274971\n",
            "min             0.000000            0.000000         0.000000       0.000000\n",
            "25%             0.000000            0.000000         0.000000       0.000000\n",
            "50%            51.000000            0.000000        23.578555      50.105424\n",
            "75%            63.804147           40.940347        30.224412      59.500000\n",
            "max            85.000000           85.000000        85.000000      85.000000\n"
          ]
        }
      ],
      "source": [
        "wine_dataframe['Aromas'] = wine_dataframe['Aromas'].str.replace('/+', '+')\n",
        "wine_dataframe['Aromas'] = wine_dataframe['Aromas'].str.replace(',+', '+')\n",
        "wine_dataframe['Olphactive'] = wine_dataframe['Olphactive'].str.replace('/+', '+')\n",
        "wine_dataframe['Olphactive'] = wine_dataframe['Olphactive'].str.replace(',+', '+')\n",
        "wine_dataframe['Aromas'] = wine_dataframe['Aromas'].str.replace('Ã©', 'é')\n",
        "wine_dataframe['Aromas'] = wine_dataframe['Aromas'].str.replace('Ã‰', 'é')\n",
        "wine_dataframe['Olphactive'] = wine_dataframe['Olphactive'].str.replace('Ã©', 'é')\n",
        "wine_dataframe['Olphactive'] = wine_dataframe['Olphactive'].str.replace('Ã‰', 'é')\n",
        "wine_dataframe['Aromas'] = wine_dataframe['Aromas'].str.lower()\n",
        "wine_dataframe['Olphactive'] = wine_dataframe['Olphactive'].str.lower()\n",
        "wine_dataframe['Aromas'] = wine_dataframe['Aromas'].str.lstrip('+')\n",
        "wine_dataframe['Olphactive'] = wine_dataframe['Olphactive'].str.lstrip('+')\n",
        "wine_dataframe['Aromas'] = wine_dataframe['Aromas'].str.split('+')\n",
        "wine_dataframe['Olphactive'] = wine_dataframe['Olphactive'].str.split('+')\n",
        "\n",
        "wine_dataframe['Aromas'] = wine_dataframe['Aromas'].apply(lambda x: [] if isinstance(x, float) else x)\n",
        "wine_dataframe['Olphactive'] = wine_dataframe['Olphactive'].apply(lambda x: [] if isinstance(x, float) else x)\n",
        "print(wine_dataframe.describe())"
      ]
    },
    {
      "cell_type": "code",
      "execution_count": null,
      "metadata": {
        "colab": {
          "base_uri": "https://localhost:8080/"
        },
        "id": "5HcRXSXpM5Zi",
        "outputId": "966454ff-552b-47f1-8236-9ee458d1682e"
      },
      "outputs": [
        {
          "output_type": "stream",
          "name": "stdout",
          "text": [
            "list    35218\n",
            "Name: Olphactive, dtype: int64\n"
          ]
        }
      ],
      "source": [
        "value_counts = wine_dataframe['Olphactive'].apply(lambda x: type(x).__name__).value_counts()\n",
        "print(value_counts)"
      ]
    },
    {
      "cell_type": "code",
      "execution_count": null,
      "metadata": {
        "colab": {
          "base_uri": "https://localhost:8080/"
        },
        "id": "8zwXSHHBM5Zi",
        "outputId": "fb0f0df7-5d7f-433e-a3e0-c57165454ecc"
      },
      "outputs": [
        {
          "output_type": "stream",
          "name": "stdout",
          "text": [
            "Pinot noir            8378\n",
            "Cabernet-Sauvignon    8127\n",
            "Chardonnay            8108\n",
            "Riesling              3274\n",
            "Merlot                3111\n",
            "Malbec                1582\n",
            "Sangiovese            1414\n",
            "Zinfandel             1224\n",
            "Name: Cépages, dtype: int64\n"
          ]
        }
      ],
      "source": [
        "from sklearn.preprocessing import MultiLabelBinarizer\n",
        "mlb = MultiLabelBinarizer()\n",
        "Aromas_one_hot_encoded = mlb.fit_transform(wine_dataframe['Aromas'])\n",
        "Aromas_df_encoded = pd.DataFrame(Aromas_one_hot_encoded, columns=mlb.classes_)\n",
        "Olphactive_one_hot_encoded = mlb.fit_transform(wine_dataframe['Olphactive'])\n",
        "Olphactive_df_encoded = pd.DataFrame(Olphactive_one_hot_encoded, columns=mlb.classes_)\n",
        "df_concatenated_0 = pd.concat([wine_dataframe, Aromas_df_encoded], axis=1)\n",
        "df_concatenated = pd.concat([df_concatenated_0, Olphactive_df_encoded], axis=1)\n",
        "\n",
        "df_concatenated.drop('Aromas', axis=1, inplace=True)\n",
        "df_concatenated.drop('Olphactive', axis=1, inplace=True)\n",
        "\n",
        "# count the number of observations per variety\n",
        "counts = df_concatenated['Cépages'].value_counts()\n",
        "\n",
        "# print the counts\n",
        "print(counts)"
      ]
    },
    {
      "cell_type": "code",
      "execution_count": null,
      "metadata": {
        "id": "MjTyWQMdM5Zi"
      },
      "outputs": [],
      "source": [
        "for i, row in df_concatenated.iterrows():\n",
        "    if row['Léger to Puissant'] == 0 and row['Souple to Tannique'] == 0 and row['Sec to Moelleux'] == 0 and row['Doux to Acide'] == 0:\n",
        "        df_concatenated = df_concatenated.drop(i) "
      ]
    },
    {
      "cell_type": "code",
      "source": [
        "import tensorflow as tf\n",
        "tf.test.gpu_device_name()"
      ],
      "metadata": {
        "colab": {
          "base_uri": "https://localhost:8080/",
          "height": 36
        },
        "id": "9_ndCubGV5ss",
        "outputId": "ae80d60d-326d-4f12-fb17-b2c481b0a3a0"
      },
      "execution_count": null,
      "outputs": [
        {
          "output_type": "execute_result",
          "data": {
            "text/plain": [
              "'/device:GPU:0'"
            ],
            "application/vnd.google.colaboratory.intrinsic+json": {
              "type": "string"
            }
          },
          "metadata": {},
          "execution_count": 28
        }
      ]
    },
    {
      "cell_type": "code",
      "execution_count": null,
      "metadata": {
        "id": "xaMyBYxJM5Zj",
        "colab": {
          "base_uri": "https://localhost:8080/"
        },
        "outputId": "c64d270f-257f-46f2-91a8-bb5fc50e021f"
      },
      "outputs": [
        {
          "output_type": "execute_result",
          "data": {
            "text/plain": [
              "Pinot noir            5888\n",
              "Chardonnay            5633\n",
              "Cabernet-Sauvignon    4405\n",
              "Riesling              2820\n",
              "Merlot                2209\n",
              "Malbec                1263\n",
              "Zinfandel              940\n",
              "Sangiovese             790\n",
              "Name: Cépages, dtype: int64"
            ]
          },
          "metadata": {},
          "execution_count": 29
        }
      ],
      "source": [
        "df_concatenated['Cépages'].value_counts()\n"
      ]
    },
    {
      "cell_type": "code",
      "execution_count": null,
      "metadata": {
        "colab": {
          "base_uri": "https://localhost:8080/"
        },
        "id": "437lhN6uM5Zj",
        "outputId": "c9ca1cd5-2ef0-4f23-9a77-5cb1116b51c4"
      },
      "outputs": [
        {
          "output_type": "stream",
          "name": "stdout",
          "text": [
            "(21553, 679)\n",
            "(2395, 679)\n"
          ]
        }
      ],
      "source": [
        "from sklearn.model_selection import train_test_split\n",
        "\n",
        "X = df_concatenated.drop('Cépages', axis=1)\n",
        "y = df_concatenated['Cépages']\n",
        "from sklearn.metrics import accuracy_score\n",
        "import matplotlib.pyplot as plt\n",
        "X_train, X_test, y_train, y_test = train_test_split(X, y, test_size = 0.10)\n",
        "print(X_train.shape); print(X_test.shape)"
      ]
    },
    {
      "cell_type": "code",
      "execution_count": null,
      "metadata": {
        "colab": {
          "base_uri": "https://localhost:8080/"
        },
        "id": "ZMc7PaPDM5Zj",
        "outputId": "677d1038-97de-414c-a1ed-cccaddaf41a3"
      },
      "outputs": [
        {
          "output_type": "stream",
          "name": "stdout",
          "text": [
            "(21553, 679)\n",
            "(2395, 679)\n"
          ]
        }
      ],
      "source": [
        "from sklearn.preprocessing import StandardScaler\n",
        "sc = StandardScaler()\n",
        "X_train = sc.fit_transform(X_train)\n",
        "X_test = sc.transform(X_test)\n",
        "print(X_train.shape); print(X_test.shape)"
      ]
    },
    {
      "cell_type": "markdown",
      "metadata": {
        "id": "1xKTIzN2M5Zk"
      },
      "source": [
        "# 2) PREDICT"
      ]
    },
    {
      "cell_type": "code",
      "execution_count": null,
      "metadata": {
        "id": "NlXk0SYWM5Zl"
      },
      "outputs": [],
      "source": [
        "param_grid = {\n",
        "    'hidden_layer_sizes': [(10,), (50,), (100,)],\n",
        "    'activation': ['logistic', 'relu','tanh'],\n",
        "    'solver': ['sgd', 'adam'],\n",
        "    'alpha': [0.0001, 0.05],\n",
        "    'learning_rate': ['constant', 'adaptive'],\n",
        "}\n",
        "from sklearn.model_selection import GridSearchCV"
      ]
    },
    {
      "cell_type": "code",
      "source": [
        "mlp = MLPClassifier(alpha = 0.05 , learning_rate = 'adaptive' , hidden_layer_sizes=(50,), activation='tanh', solver='adam', max_iter=500)\n",
        "print(\"hello\")\n",
        "mlp.fit(X_train,y_train)\n",
        "print(\"hi\")\n",
        "y_pred = mlp.predict(X_test)"
      ],
      "metadata": {
        "id": "7u-p0R5cc5WO",
        "colab": {
          "base_uri": "https://localhost:8080/"
        },
        "outputId": "86decb71-2016-47e4-d5d4-b93ff6954270"
      },
      "execution_count": null,
      "outputs": [
        {
          "output_type": "stream",
          "name": "stdout",
          "text": [
            "hello\n",
            "hi\n"
          ]
        }
      ]
    },
    {
      "cell_type": "code",
      "execution_count": null,
      "metadata": {
        "id": "I0gTHOAdM5Zm",
        "outputId": "46ec380d-cb10-4f72-9676-af3be8ad5610",
        "colab": {
          "base_uri": "https://localhost:8080/"
        }
      },
      "outputs": [
        {
          "output_type": "stream",
          "name": "stdout",
          "text": [
            "                    precision    recall  f1-score   support\n",
            "\n",
            "Cabernet-Sauvignon       0.88      0.91      0.90       439\n",
            "        Chardonnay       0.96      0.97      0.97       595\n",
            "            Malbec       0.82      0.76      0.79       127\n",
            "            Merlot       0.86      0.85      0.86       233\n",
            "        Pinot noir       0.96      0.93      0.94       580\n",
            "          Riesling       0.93      0.96      0.94       258\n",
            "        Sangiovese       0.75      0.78      0.76        80\n",
            "         Zinfandel       0.86      0.86      0.86        83\n",
            "\n",
            "          accuracy                           0.92      2395\n",
            "         macro avg       0.88      0.88      0.88      2395\n",
            "      weighted avg       0.92      0.92      0.92      2395\n",
            "\n"
          ]
        }
      ],
      "source": [
        "from sklearn.metrics import classification_report,confusion_matrix\n",
        "\n",
        "from sklearn.metrics import classification_report\n",
        "print(classification_report(y_test, y_pred))"
      ]
    },
    {
      "cell_type": "code",
      "execution_count": null,
      "metadata": {
        "id": "rKE08VScM5Zm",
        "outputId": "c44c5530-d332-4a30-8d9c-3854a6a9e0e2"
      },
      "outputs": [
        {
          "data": {
            "image/png": "[encoded data removed]",
            "text/plain": [
              "<Figure size 640x480 with 2 Axes>"
            ]
          },
          "metadata": {},
          "output_type": "display_data"
        }
      ],
      "source": [
        "from sklearn import metrics\n",
        "import matplotlib.pyplot as plt\n",
        "confusion_matrix = metrics.confusion_matrix(y_test,y_pred)\n",
        "cm_display = metrics.ConfusionMatrixDisplay(confusion_matrix = confusion_matrix, display_labels = [\"Caernet Sauvignon\" , \"Chardonnay\",\"Malbec\",\"Merlot\",\"Pinot Noir\",\"Riesling\",\"Sangiovese\",\"Zinfandel\"])\n",
        "\n",
        "cm_display.plot()\n",
        "plt.show()"
      ]
    },
    {
      "cell_type": "code",
      "execution_count": null,
      "metadata": {
        "id": "r-R0Fz_NM5Zn",
        "outputId": "5ce32891-d9d5-43ff-825b-450de677303e"
      },
      "outputs": [
        {
          "name": "stderr",
          "output_type": "stream",
          "text": [
            "/opt/tljh/user/lib/python3.7/site-packages/sklearn/neural_network/_multilayer_perceptron.py:696: ConvergenceWarning: Stochastic Optimizer: Maximum iterations (100) reached and the optimization hasn't converged yet.\n",
            "  ConvergenceWarning,\n"
          ]
        },
        {
          "data": {
            "text/plain": [
              "GridSearchCV(cv=5, estimator=MLPClassifier(max_iter=100), n_jobs=-1,\n",
              "             param_grid={'activation': ['tanh', 'relu'],\n",
              "                         'alpha': [0.0001, 0.05],\n",
              "                         'hidden_layer_sizes': [(50,), (500,), (679,)],\n",
              "                         'learning_rate': ['constant', 'adaptive'],\n",
              "                         'solver': ['sgd', 'adam']})"
            ]
          },
          "execution_count": 13,
          "metadata": {},
          "output_type": "execute_result"
        }
      ],
      "source": [
        "mlp_gs = MLPClassifier(max_iter=100)\n",
        "parameter_space = {\n",
        "    'hidden_layer_sizes': [(50,),(500,),(679,)],\n",
        "    'activation': ['tanh', 'relu'],\n",
        "    'solver': ['sgd', 'adam'],\n",
        "    'alpha': [0.0001, 0.05],\n",
        "    'learning_rate': ['constant','adaptive'],\n",
        "}\n",
        "from sklearn.model_selection import GridSearchCV\n",
        "clf = GridSearchCV(mlp_gs, parameter_space, verbose = 4, n_jobs=-1, cv=5)\n",
        "clf.fit(X_train,y_train) # X is train samples and y is the corresponding labels"
      ]
    },
    {
      "cell_type": "code",
      "execution_count": null,
      "metadata": {
        "id": "BGnTpPBJM5Zn",
        "outputId": "6288583f-1c78-4415-887f-97ac1903f49a"
      },
      "outputs": [
        {
          "name": "stdout",
          "output_type": "stream",
          "text": [
            "Best parameters found:\n",
            " {'activation': 'tanh', 'alpha': 0.05, 'hidden_layer_sizes': (50,), 'learning_rate': 'adaptive', 'solver': 'adam'}\n"
          ]
        }
      ],
      "source": [
        "print('Best parameters found:\\n', clf.best_params_)"
      ]
    },
    {
      "cell_type": "code",
      "execution_count": null,
      "metadata": {
        "id": "216N2eIzM5Zo"
      },
      "outputs": [],
      "source": []
    }
  ],
  "metadata": {
    "kernelspec": {
      "display_name": "Python 3",
      "language": "python",
      "name": "python3"
    },
    "language_info": {
      "codemirror_mode": {
        "name": "ipython",
        "version": 3
      },
      "file_extension": ".py",
      "mimetype": "text/x-python",
      "name": "python",
      "nbconvert_exporter": "python",
      "pygments_lexer": "ipython3",
      "version": "3.7.6"
    },
    "colab": {
      "provenance": [],
      "gpuType": "T4"
    },
    "accelerator": "GPU",
    "gpuClass": "standard"
  },
  "nbformat": 4,
  "nbformat_minor": 0
}