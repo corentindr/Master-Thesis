{
 "cells": [
  {
   "cell_type": "code",
   "execution_count": null,
   "metadata": {
    "id": "CSFFRdnaYO3d"
   },
   "outputs": [],
   "source": []
  },
  {
   "cell_type": "code",
   "execution_count": 89,
   "metadata": {
    "colab": {
     "base_uri": "https://localhost:8080/"
    },
    "id": "KKHVJepIWRfV",
    "outputId": "38cb0f45-d772-412c-da5e-606fdd497cfe"
   },
   "outputs": [
    {
     "name": "stdout",
     "output_type": "stream",
     "text": [
      "Looking in indexes: https://pypi.org/simple, https://us-python.pkg.dev/colab-wheels/public/simple/\n",
      "Requirement already satisfied: transformers in /usr/local/lib/python3.9/dist-packages (4.28.1)\n",
      "Requirement already satisfied: huggingface-hub<1.0,>=0.11.0 in /usr/local/lib/python3.9/dist-packages (from transformers) (0.13.4)\n",
      "Requirement already satisfied: tokenizers!=0.11.3,<0.14,>=0.11.1 in /usr/local/lib/python3.9/dist-packages (from transformers) (0.13.3)\n",
      "Requirement already satisfied: tqdm>=4.27 in /usr/local/lib/python3.9/dist-packages (from transformers) (4.65.0)\n",
      "Requirement already satisfied: filelock in /usr/local/lib/python3.9/dist-packages (from transformers) (3.11.0)\n",
      "Requirement already satisfied: packaging>=20.0 in /usr/local/lib/python3.9/dist-packages (from transformers) (23.0)\n",
      "Requirement already satisfied: pyyaml>=5.1 in /usr/local/lib/python3.9/dist-packages (from transformers) (6.0)\n",
      "Requirement already satisfied: regex!=2019.12.17 in /usr/local/lib/python3.9/dist-packages (from transformers) (2022.10.31)\n",
      "Requirement already satisfied: numpy>=1.17 in /usr/local/lib/python3.9/dist-packages (from transformers) (1.22.4)\n",
      "Requirement already satisfied: requests in /usr/local/lib/python3.9/dist-packages (from transformers) (2.27.1)\n",
      "Requirement already satisfied: typing-extensions>=3.7.4.3 in /usr/local/lib/python3.9/dist-packages (from huggingface-hub<1.0,>=0.11.0->transformers) (4.5.0)\n",
      "Requirement already satisfied: urllib3<1.27,>=1.21.1 in /usr/local/lib/python3.9/dist-packages (from requests->transformers) (1.26.15)\n",
      "Requirement already satisfied: idna<4,>=2.5 in /usr/local/lib/python3.9/dist-packages (from requests->transformers) (3.4)\n",
      "Requirement already satisfied: certifi>=2017.4.17 in /usr/local/lib/python3.9/dist-packages (from requests->transformers) (2022.12.7)\n",
      "Requirement already satisfied: charset-normalizer~=2.0.0 in /usr/local/lib/python3.9/dist-packages (from requests->transformers) (2.0.12)\n"
     ]
    }
   ],
   "source": [
    "import pandas as pd\n",
    "import numpy as np\n",
    "from sklearn.model_selection import train_test_split\n",
    "from sklearn.metrics import accuracy_score\n",
    "from sklearn.preprocessing import LabelEncoder\n",
    "from sklearn.utils.class_weight import compute_class_weight\n",
    "!pip install transformers\n",
    "from transformers import BertTokenizer, TFBertForSequenceClassification, BertConfig\n",
    "import tensorflow as tf\n",
    "from tensorflow.keras.optimizers import Adam\n",
    "from tensorflow.keras.callbacks import EarlyStopping\n",
    "from tensorflow.keras.losses import SparseCategoricalCrossentropy"
   ]
  },
  {
   "cell_type": "code",
   "execution_count": 90,
   "metadata": {
    "colab": {
     "base_uri": "https://localhost:8080/"
    },
    "id": "lsk7zp_mXwwh",
    "outputId": "3bb8c6e7-42a9-4eaf-8334-fc20a7e4adb4"
   },
   "outputs": [
    {
     "name": "stderr",
     "output_type": "stream",
     "text": [
      "[nltk_data] Downloading package stopwords to /root/nltk_data...\n",
      "[nltk_data]   Package stopwords is already up-to-date!\n"
     ]
    },
    {
     "name": "stdout",
     "output_type": "stream",
     "text": [
      "Looking in indexes: https://pypi.org/simple, https://us-python.pkg.dev/colab-wheels/public/simple/\n",
      "Requirement already satisfied: transformers in /usr/local/lib/python3.9/dist-packages (4.28.1)\n",
      "Requirement already satisfied: huggingface-hub<1.0,>=0.11.0 in /usr/local/lib/python3.9/dist-packages (from transformers) (0.13.4)\n",
      "Requirement already satisfied: regex!=2019.12.17 in /usr/local/lib/python3.9/dist-packages (from transformers) (2022.10.31)\n",
      "Requirement already satisfied: tokenizers!=0.11.3,<0.14,>=0.11.1 in /usr/local/lib/python3.9/dist-packages (from transformers) (0.13.3)\n",
      "Requirement already satisfied: requests in /usr/local/lib/python3.9/dist-packages (from transformers) (2.27.1)\n",
      "Requirement already satisfied: pyyaml>=5.1 in /usr/local/lib/python3.9/dist-packages (from transformers) (6.0)\n",
      "Requirement already satisfied: packaging>=20.0 in /usr/local/lib/python3.9/dist-packages (from transformers) (23.0)\n",
      "Requirement already satisfied: numpy>=1.17 in /usr/local/lib/python3.9/dist-packages (from transformers) (1.22.4)\n",
      "Requirement already satisfied: filelock in /usr/local/lib/python3.9/dist-packages (from transformers) (3.11.0)\n",
      "Requirement already satisfied: tqdm>=4.27 in /usr/local/lib/python3.9/dist-packages (from transformers) (4.65.0)\n",
      "Requirement already satisfied: typing-extensions>=3.7.4.3 in /usr/local/lib/python3.9/dist-packages (from huggingface-hub<1.0,>=0.11.0->transformers) (4.5.0)\n",
      "Requirement already satisfied: charset-normalizer~=2.0.0 in /usr/local/lib/python3.9/dist-packages (from requests->transformers) (2.0.12)\n",
      "Requirement already satisfied: urllib3<1.27,>=1.21.1 in /usr/local/lib/python3.9/dist-packages (from requests->transformers) (1.26.15)\n",
      "Requirement already satisfied: idna<4,>=2.5 in /usr/local/lib/python3.9/dist-packages (from requests->transformers) (3.4)\n",
      "Requirement already satisfied: certifi>=2017.4.17 in /usr/local/lib/python3.9/dist-packages (from requests->transformers) (2022.12.7)\n"
     ]
    }
   ],
   "source": [
    "import numpy as np\n",
    "import pandas as pd\n",
    "import nltk\n",
    "nltk.download('stopwords')\n",
    "from nltk.corpus import stopwords\n",
    "from sklearn.model_selection import train_test_split\n",
    "from sklearn.metrics import accuracy_score\n",
    "from sklearn.preprocessing import LabelEncoder\n",
    "from sklearn.utils.class_weight import compute_class_weight\n",
    "!pip install transformers\n",
    "from transformers import BertTokenizer, TFBertForSequenceClassification, BertConfig"
   ]
  },
  {
   "cell_type": "code",
   "execution_count": 91,
   "metadata": {
    "id": "F8E6rKHVT0n-"
   },
   "outputs": [],
   "source": [
    "from sklearn.metrics import classification_report\n",
    "from transformers import RobertaTokenizer"
   ]
  },
  {
   "cell_type": "code",
   "execution_count": 92,
   "metadata": {
    "colab": {
     "base_uri": "https://localhost:8080/"
    },
    "id": "leZCQM2ZWhde",
    "outputId": "a26214b6-7a7b-470b-ddd0-2b8224657af0"
   },
   "outputs": [
    {
     "data": {
      "text/plain": [
       "Pinot Noir            8378\n",
       "Cabernet Sauvignon    8127\n",
       "Chardonnay            8108\n",
       "Riesling              3274\n",
       "Merlot                3111\n",
       "Malbec                1582\n",
       "Sangiovese            1414\n",
       "Zinfandel             1224\n",
       "Name: variety, dtype: int64"
      ]
     },
     "execution_count": 92,
     "metadata": {},
     "output_type": "execute_result"
    }
   ],
   "source": [
    "# I read the csv with the good number of observations and the new column Red\n",
    "df = pd.read_csv(\"modified_vin.csv\")\n",
    "df[\"description\"] = df[\"description\"].str.lower()\n",
    "df[\"variety\"].value_counts()\n"
   ]
  },
  {
   "cell_type": "code",
   "execution_count": 93,
   "metadata": {
    "colab": {
     "base_uri": "https://localhost:8080/"
    },
    "id": "SmqM5ZpOJxdd",
    "outputId": "31dca9fe-5403-411d-e104-196d6c8e8516"
   },
   "outputs": [
    {
     "data": {
      "text/plain": [
       "Pinot Noir            5888\n",
       "Chardonnay            5633\n",
       "Cabernet Sauvignon    4405\n",
       "Riesling              2820\n",
       "Merlot                2209\n",
       "Malbec                1263\n",
       "Zinfandel              940\n",
       "Sangiovese             790\n",
       "Name: variety, dtype: int64"
      ]
     },
     "execution_count": 93,
     "metadata": {},
     "output_type": "execute_result"
    }
   ],
   "source": [
    "# However, in the numerical model, we decided to remove all obs where the 4 cotinuous variables were equal to 0, so we have to align our nlp dataset\n",
    "n_pinot_noir = 5888\n",
    "n_chardonnay = 5633\n",
    "n_cabernet_sauvignon = 4405\n",
    "Riesling=2820\n",
    "Merlot=2209\n",
    "Malbec=1263\n",
    "Zinfandel=940\n",
    "Sangiovese=790\n",
    "# filter the DataFrame to only keep the desired number of observations for each grape variety\n",
    "df_filtered = pd.concat([\n",
    "    df[df['variety'] == 'Pinot Noir'].sample(n_pinot_noir, random_state=42),\n",
    "    df[df['variety'] == 'Chardonnay'].sample(n_chardonnay, random_state=42),\n",
    "    df[df['variety'] == 'Cabernet Sauvignon'].sample(n_cabernet_sauvignon, random_state=42),\n",
    "    df[df['variety'] == 'Riesling'].sample(Riesling, random_state=42),\n",
    "    df[df['variety'] == 'Merlot'].sample(Merlot, random_state=42),\n",
    "    df[df['variety'] == 'Malbec'].sample(Malbec, random_state=42),\n",
    "    df[df['variety'] == 'Zinfandel'].sample(Zinfandel, random_state=42),\n",
    "    df[df['variety'] == 'Sangiovese'].sample(Sangiovese, random_state=42),\n",
    "    \n",
    "])\n",
    "\n",
    "# reset the index of the filtered DataFrame\n",
    "df = df_filtered.reset_index(drop=True)\n",
    "df[\"variety\"].value_counts()"
   ]
  },
  {
   "cell_type": "code",
   "execution_count": 94,
   "metadata": {
    "id": "F9npg9ugXWf3"
   },
   "outputs": [],
   "source": [
    "# Creation of the list of stop_words\n",
    "stop_variety = list(np.unique(df.variety.dropna().str.lower().tolist()))\n",
    "stop_words =  stopwords.words('english')\n",
    "stop_append = ['.', ',', '`', '\"', \"'\", '!', ';', 'wine', 'fruit', '%', 'flavour', 'aromas', 'palate']\n",
    "stop = stop_words + stop_append + stop_variety"
   ]
  },
  {
   "cell_type": "code",
   "execution_count": 95,
   "metadata": {
    "colab": {
     "base_uri": "https://localhost:8080/"
    },
    "id": "dJEVTvL3X6WF",
    "outputId": "beeb718d-5910-475d-ba6e-d89ba749dcd0"
   },
   "outputs": [
    {
     "data": {
      "text/plain": [
       "0        broad-shouldered, full-bodied shows true varie...\n",
       "1        bit disappointing. starts exciting blast cherr...\n",
       "2        tons flavor pinot. dazzles waves cherries, rhu...\n",
       "3        initially spicy, develops awkward barnyard cha...\n",
       "4        delicious first word pops head taste wine. got...\n",
       "                               ...                        \n",
       "23943    modern brunello dark, inky concentration toast...\n",
       "23944    opens sweet bursting cherry, marzipan, cinnamo...\n",
       "23945    here's classically crafted selection, lovely f...\n",
       "23946    captivating wild berry, rose, chopped herb bak...\n",
       "23947    obviously shaped hot vintage, riserva delivers...\n",
       "Name: description, Length: 23948, dtype: object"
      ]
     },
     "execution_count": 95,
     "metadata": {},
     "output_type": "execute_result"
    }
   ],
   "source": [
    "# Lower casing the reviews\n",
    "df[\"description\"].apply(lambda words: ' '.join(word.lower() for word in words.split() if word not in stop))\n"
   ]
  },
  {
   "cell_type": "code",
   "execution_count": 96,
   "metadata": {
    "colab": {
     "base_uri": "https://localhost:8080/",
     "height": 206
    },
    "id": "VMeEOu4UYFa3",
    "outputId": "0621fb15-9751-4227-c5f6-cfcb6d19296f"
   },
   "outputs": [
    {
     "data": {
      "text/html": [
       "\n",
       "  <div id=\"df-f30b346f-c36e-41b6-816a-1909d80844e9\">\n",
       "    <div class=\"colab-df-container\">\n",
       "      <div>\n",
       "<style scoped>\n",
       "    .dataframe tbody tr th:only-of-type {\n",
       "        vertical-align: middle;\n",
       "    }\n",
       "\n",
       "    .dataframe tbody tr th {\n",
       "        vertical-align: top;\n",
       "    }\n",
       "\n",
       "    .dataframe thead th {\n",
       "        text-align: right;\n",
       "    }\n",
       "</style>\n",
       "<table border=\"1\" class=\"dataframe\">\n",
       "  <thead>\n",
       "    <tr style=\"text-align: right;\">\n",
       "      <th></th>\n",
       "      <th>description</th>\n",
       "      <th>variety</th>\n",
       "      <th>Red</th>\n",
       "    </tr>\n",
       "  </thead>\n",
       "  <tbody>\n",
       "    <tr>\n",
       "      <th>0</th>\n",
       "      <td>this is a broad-shouldered, full-bodied wine t...</td>\n",
       "      <td>Pinot Noir</td>\n",
       "      <td>1</td>\n",
       "    </tr>\n",
       "    <tr>\n",
       "      <th>1</th>\n",
       "      <td>a bit disappointing. starts off with an exciti...</td>\n",
       "      <td>Pinot Noir</td>\n",
       "      <td>1</td>\n",
       "    </tr>\n",
       "    <tr>\n",
       "      <th>2</th>\n",
       "      <td>tons of flavor in this pinot. dazzles with wav...</td>\n",
       "      <td>Pinot Noir</td>\n",
       "      <td>1</td>\n",
       "    </tr>\n",
       "    <tr>\n",
       "      <th>3</th>\n",
       "      <td>initially spicy, this wine then develops an aw...</td>\n",
       "      <td>Pinot Noir</td>\n",
       "      <td>1</td>\n",
       "    </tr>\n",
       "    <tr>\n",
       "      <th>4</th>\n",
       "      <td>delicious is the first word that pops into you...</td>\n",
       "      <td>Pinot Noir</td>\n",
       "      <td>1</td>\n",
       "    </tr>\n",
       "  </tbody>\n",
       "</table>\n",
       "</div>\n",
       "      <button class=\"colab-df-convert\" onclick=\"convertToInteractive('df-f30b346f-c36e-41b6-816a-1909d80844e9')\"\n",
       "              title=\"Convert this dataframe to an interactive table.\"\n",
       "              style=\"display:none;\">\n",
       "        \n",
       "  <svg xmlns=\"http://www.w3.org/2000/svg\" height=\"24px\"viewBox=\"0 0 24 24\"\n",
       "       width=\"24px\">\n",
       "    <path d=\"M0 0h24v24H0V0z\" fill=\"none\"/>\n",
       "    <path d=\"M18.56 5.44l.94 2.06.94-2.06 2.06-.94-2.06-.94-.94-2.06-.94 2.06-2.06.94zm-11 1L8.5 8.5l.94-2.06 2.06-.94-2.06-.94L8.5 2.5l-.94 2.06-2.06.94zm10 10l.94 2.06.94-2.06 2.06-.94-2.06-.94-.94-2.06-.94 2.06-2.06.94z\"/><path d=\"M17.41 7.96l-1.37-1.37c-.4-.4-.92-.59-1.43-.59-.52 0-1.04.2-1.43.59L10.3 9.45l-7.72 7.72c-.78.78-.78 2.05 0 2.83L4 21.41c.39.39.9.59 1.41.59.51 0 1.02-.2 1.41-.59l7.78-7.78 2.81-2.81c.8-.78.8-2.07 0-2.86zM5.41 20L4 18.59l7.72-7.72 1.47 1.35L5.41 20z\"/>\n",
       "  </svg>\n",
       "      </button>\n",
       "      \n",
       "  <style>\n",
       "    .colab-df-container {\n",
       "      display:flex;\n",
       "      flex-wrap:wrap;\n",
       "      gap: 12px;\n",
       "    }\n",
       "\n",
       "    .colab-df-convert {\n",
       "      background-color: #E8F0FE;\n",
       "      border: none;\n",
       "      border-radius: 50%;\n",
       "      cursor: pointer;\n",
       "      display: none;\n",
       "      fill: #1967D2;\n",
       "      height: 32px;\n",
       "      padding: 0 0 0 0;\n",
       "      width: 32px;\n",
       "    }\n",
       "\n",
       "    .colab-df-convert:hover {\n",
       "      background-color: #E2EBFA;\n",
       "      box-shadow: 0px 1px 2px rgba(60, 64, 67, 0.3), 0px 1px 3px 1px rgba(60, 64, 67, 0.15);\n",
       "      fill: #174EA6;\n",
       "    }\n",
       "\n",
       "    [theme=dark] .colab-df-convert {\n",
       "      background-color: #3B4455;\n",
       "      fill: #D2E3FC;\n",
       "    }\n",
       "\n",
       "    [theme=dark] .colab-df-convert:hover {\n",
       "      background-color: #434B5C;\n",
       "      box-shadow: 0px 1px 3px 1px rgba(0, 0, 0, 0.15);\n",
       "      filter: drop-shadow(0px 1px 2px rgba(0, 0, 0, 0.3));\n",
       "      fill: #FFFFFF;\n",
       "    }\n",
       "  </style>\n",
       "\n",
       "      <script>\n",
       "        const buttonEl =\n",
       "          document.querySelector('#df-f30b346f-c36e-41b6-816a-1909d80844e9 button.colab-df-convert');\n",
       "        buttonEl.style.display =\n",
       "          google.colab.kernel.accessAllowed ? 'block' : 'none';\n",
       "\n",
       "        async function convertToInteractive(key) {\n",
       "          const element = document.querySelector('#df-f30b346f-c36e-41b6-816a-1909d80844e9');\n",
       "          const dataTable =\n",
       "            await google.colab.kernel.invokeFunction('convertToInteractive',\n",
       "                                                     [key], {});\n",
       "          if (!dataTable) return;\n",
       "\n",
       "          const docLinkHtml = 'Like what you see? Visit the ' +\n",
       "            '<a target=\"_blank\" href=https://colab.research.google.com/notebooks/data_table.ipynb>data table notebook</a>'\n",
       "            + ' to learn more about interactive tables.';\n",
       "          element.innerHTML = '';\n",
       "          dataTable['output_type'] = 'display_data';\n",
       "          await google.colab.output.renderOutput(dataTable, element);\n",
       "          const docLink = document.createElement('div');\n",
       "          docLink.innerHTML = docLinkHtml;\n",
       "          element.appendChild(docLink);\n",
       "        }\n",
       "      </script>\n",
       "    </div>\n",
       "  </div>\n",
       "  "
      ],
      "text/plain": [
       "                                         description     variety  Red\n",
       "0  this is a broad-shouldered, full-bodied wine t...  Pinot Noir    1\n",
       "1  a bit disappointing. starts off with an exciti...  Pinot Noir    1\n",
       "2  tons of flavor in this pinot. dazzles with wav...  Pinot Noir    1\n",
       "3  initially spicy, this wine then develops an aw...  Pinot Noir    1\n",
       "4  delicious is the first word that pops into you...  Pinot Noir    1"
      ]
     },
     "execution_count": 96,
     "metadata": {},
     "output_type": "execute_result"
    }
   ],
   "source": [
    "# Dataset Overview\n",
    "df.head()"
   ]
  },
  {
   "cell_type": "code",
   "execution_count": 97,
   "metadata": {
    "id": "UMu6jj_GF_19"
   },
   "outputs": [],
   "source": [
    "# create red_wine_df by selecting rows where Red column equals 1\n",
    "red_wine_df = df.loc[df['Red'] == 1]\n",
    "\n",
    "# create white_wine_df by selecting rows where Red column equals 0\n",
    "white_wine_df = df.loc[df['Red'] == 0]"
   ]
  },
  {
   "cell_type": "code",
   "execution_count": 98,
   "metadata": {
    "colab": {
     "base_uri": "https://localhost:8080/",
     "height": 423
    },
    "id": "sfBb3zr1YIWz",
    "outputId": "202f7e82-8563-4862-c488-ae4ff99dfc61"
   },
   "outputs": [
    {
     "data": {
      "text/html": [
       "\n",
       "  <div id=\"df-b2bd20ee-6e1d-4837-a0fd-e65f5d69067f\">\n",
       "    <div class=\"colab-df-container\">\n",
       "      <div>\n",
       "<style scoped>\n",
       "    .dataframe tbody tr th:only-of-type {\n",
       "        vertical-align: middle;\n",
       "    }\n",
       "\n",
       "    .dataframe tbody tr th {\n",
       "        vertical-align: top;\n",
       "    }\n",
       "\n",
       "    .dataframe thead th {\n",
       "        text-align: right;\n",
       "    }\n",
       "</style>\n",
       "<table border=\"1\" class=\"dataframe\">\n",
       "  <thead>\n",
       "    <tr style=\"text-align: right;\">\n",
       "      <th></th>\n",
       "      <th>description</th>\n",
       "      <th>variety</th>\n",
       "      <th>Red</th>\n",
       "      <th>variety_enc</th>\n",
       "    </tr>\n",
       "  </thead>\n",
       "  <tbody>\n",
       "    <tr>\n",
       "      <th>0</th>\n",
       "      <td>this is a broad-shouldered, full-bodied wine t...</td>\n",
       "      <td>Pinot Noir</td>\n",
       "      <td>1</td>\n",
       "      <td>3</td>\n",
       "    </tr>\n",
       "    <tr>\n",
       "      <th>1</th>\n",
       "      <td>a bit disappointing. starts off with an exciti...</td>\n",
       "      <td>Pinot Noir</td>\n",
       "      <td>1</td>\n",
       "      <td>3</td>\n",
       "    </tr>\n",
       "    <tr>\n",
       "      <th>2</th>\n",
       "      <td>tons of flavor in this pinot. dazzles with wav...</td>\n",
       "      <td>Pinot Noir</td>\n",
       "      <td>1</td>\n",
       "      <td>3</td>\n",
       "    </tr>\n",
       "    <tr>\n",
       "      <th>3</th>\n",
       "      <td>initially spicy, this wine then develops an aw...</td>\n",
       "      <td>Pinot Noir</td>\n",
       "      <td>1</td>\n",
       "      <td>3</td>\n",
       "    </tr>\n",
       "    <tr>\n",
       "      <th>4</th>\n",
       "      <td>delicious is the first word that pops into you...</td>\n",
       "      <td>Pinot Noir</td>\n",
       "      <td>1</td>\n",
       "      <td>3</td>\n",
       "    </tr>\n",
       "    <tr>\n",
       "      <th>...</th>\n",
       "      <td>...</td>\n",
       "      <td>...</td>\n",
       "      <td>...</td>\n",
       "      <td>...</td>\n",
       "    </tr>\n",
       "    <tr>\n",
       "      <th>23943</th>\n",
       "      <td>a modern brunello with dark, inky concentratio...</td>\n",
       "      <td>Sangiovese</td>\n",
       "      <td>1</td>\n",
       "      <td>4</td>\n",
       "    </tr>\n",
       "    <tr>\n",
       "      <th>23944</th>\n",
       "      <td>the wine opens with sweet aromas of bursting c...</td>\n",
       "      <td>Sangiovese</td>\n",
       "      <td>1</td>\n",
       "      <td>4</td>\n",
       "    </tr>\n",
       "    <tr>\n",
       "      <th>23945</th>\n",
       "      <td>here's a classically crafted selection, with a...</td>\n",
       "      <td>Sangiovese</td>\n",
       "      <td>1</td>\n",
       "      <td>4</td>\n",
       "    </tr>\n",
       "    <tr>\n",
       "      <th>23946</th>\n",
       "      <td>captivating wild berry, rose, chopped herb and...</td>\n",
       "      <td>Sangiovese</td>\n",
       "      <td>1</td>\n",
       "      <td>4</td>\n",
       "    </tr>\n",
       "    <tr>\n",
       "      <th>23947</th>\n",
       "      <td>obviously shaped by a hot vintage, this riserv...</td>\n",
       "      <td>Sangiovese</td>\n",
       "      <td>1</td>\n",
       "      <td>4</td>\n",
       "    </tr>\n",
       "  </tbody>\n",
       "</table>\n",
       "<p>15495 rows × 4 columns</p>\n",
       "</div>\n",
       "      <button class=\"colab-df-convert\" onclick=\"convertToInteractive('df-b2bd20ee-6e1d-4837-a0fd-e65f5d69067f')\"\n",
       "              title=\"Convert this dataframe to an interactive table.\"\n",
       "              style=\"display:none;\">\n",
       "        \n",
       "  <svg xmlns=\"http://www.w3.org/2000/svg\" height=\"24px\"viewBox=\"0 0 24 24\"\n",
       "       width=\"24px\">\n",
       "    <path d=\"M0 0h24v24H0V0z\" fill=\"none\"/>\n",
       "    <path d=\"M18.56 5.44l.94 2.06.94-2.06 2.06-.94-2.06-.94-.94-2.06-.94 2.06-2.06.94zm-11 1L8.5 8.5l.94-2.06 2.06-.94-2.06-.94L8.5 2.5l-.94 2.06-2.06.94zm10 10l.94 2.06.94-2.06 2.06-.94-2.06-.94-.94-2.06-.94 2.06-2.06.94z\"/><path d=\"M17.41 7.96l-1.37-1.37c-.4-.4-.92-.59-1.43-.59-.52 0-1.04.2-1.43.59L10.3 9.45l-7.72 7.72c-.78.78-.78 2.05 0 2.83L4 21.41c.39.39.9.59 1.41.59.51 0 1.02-.2 1.41-.59l7.78-7.78 2.81-2.81c.8-.78.8-2.07 0-2.86zM5.41 20L4 18.59l7.72-7.72 1.47 1.35L5.41 20z\"/>\n",
       "  </svg>\n",
       "      </button>\n",
       "      \n",
       "  <style>\n",
       "    .colab-df-container {\n",
       "      display:flex;\n",
       "      flex-wrap:wrap;\n",
       "      gap: 12px;\n",
       "    }\n",
       "\n",
       "    .colab-df-convert {\n",
       "      background-color: #E8F0FE;\n",
       "      border: none;\n",
       "      border-radius: 50%;\n",
       "      cursor: pointer;\n",
       "      display: none;\n",
       "      fill: #1967D2;\n",
       "      height: 32px;\n",
       "      padding: 0 0 0 0;\n",
       "      width: 32px;\n",
       "    }\n",
       "\n",
       "    .colab-df-convert:hover {\n",
       "      background-color: #E2EBFA;\n",
       "      box-shadow: 0px 1px 2px rgba(60, 64, 67, 0.3), 0px 1px 3px 1px rgba(60, 64, 67, 0.15);\n",
       "      fill: #174EA6;\n",
       "    }\n",
       "\n",
       "    [theme=dark] .colab-df-convert {\n",
       "      background-color: #3B4455;\n",
       "      fill: #D2E3FC;\n",
       "    }\n",
       "\n",
       "    [theme=dark] .colab-df-convert:hover {\n",
       "      background-color: #434B5C;\n",
       "      box-shadow: 0px 1px 3px 1px rgba(0, 0, 0, 0.15);\n",
       "      filter: drop-shadow(0px 1px 2px rgba(0, 0, 0, 0.3));\n",
       "      fill: #FFFFFF;\n",
       "    }\n",
       "  </style>\n",
       "\n",
       "      <script>\n",
       "        const buttonEl =\n",
       "          document.querySelector('#df-b2bd20ee-6e1d-4837-a0fd-e65f5d69067f button.colab-df-convert');\n",
       "        buttonEl.style.display =\n",
       "          google.colab.kernel.accessAllowed ? 'block' : 'none';\n",
       "\n",
       "        async function convertToInteractive(key) {\n",
       "          const element = document.querySelector('#df-b2bd20ee-6e1d-4837-a0fd-e65f5d69067f');\n",
       "          const dataTable =\n",
       "            await google.colab.kernel.invokeFunction('convertToInteractive',\n",
       "                                                     [key], {});\n",
       "          if (!dataTable) return;\n",
       "\n",
       "          const docLinkHtml = 'Like what you see? Visit the ' +\n",
       "            '<a target=\"_blank\" href=https://colab.research.google.com/notebooks/data_table.ipynb>data table notebook</a>'\n",
       "            + ' to learn more about interactive tables.';\n",
       "          element.innerHTML = '';\n",
       "          dataTable['output_type'] = 'display_data';\n",
       "          await google.colab.output.renderOutput(dataTable, element);\n",
       "          const docLink = document.createElement('div');\n",
       "          docLink.innerHTML = docLinkHtml;\n",
       "          element.appendChild(docLink);\n",
       "        }\n",
       "      </script>\n",
       "    </div>\n",
       "  </div>\n",
       "  "
      ],
      "text/plain": [
       "                                             description     variety  Red  \\\n",
       "0      this is a broad-shouldered, full-bodied wine t...  Pinot Noir    1   \n",
       "1      a bit disappointing. starts off with an exciti...  Pinot Noir    1   \n",
       "2      tons of flavor in this pinot. dazzles with wav...  Pinot Noir    1   \n",
       "3      initially spicy, this wine then develops an aw...  Pinot Noir    1   \n",
       "4      delicious is the first word that pops into you...  Pinot Noir    1   \n",
       "...                                                  ...         ...  ...   \n",
       "23943  a modern brunello with dark, inky concentratio...  Sangiovese    1   \n",
       "23944  the wine opens with sweet aromas of bursting c...  Sangiovese    1   \n",
       "23945  here's a classically crafted selection, with a...  Sangiovese    1   \n",
       "23946  captivating wild berry, rose, chopped herb and...  Sangiovese    1   \n",
       "23947  obviously shaped by a hot vintage, this riserv...  Sangiovese    1   \n",
       "\n",
       "       variety_enc  \n",
       "0                3  \n",
       "1                3  \n",
       "2                3  \n",
       "3                3  \n",
       "4                3  \n",
       "...            ...  \n",
       "23943            4  \n",
       "23944            4  \n",
       "23945            4  \n",
       "23946            4  \n",
       "23947            4  \n",
       "\n",
       "[15495 rows x 4 columns]"
      ]
     },
     "execution_count": 98,
     "metadata": {},
     "output_type": "execute_result"
    }
   ],
   "source": [
    "# Transforming categorial classes into numerical classes for red wines\n",
    "red_wine_df = red_wine_df.dropna()\n",
    "le = LabelEncoder()\n",
    "red_wine_df['variety_enc'] = le.fit_transform(red_wine_df['variety'])\n",
    "red_wine_df.head(35000)"
   ]
  },
  {
   "cell_type": "code",
   "execution_count": 99,
   "metadata": {
    "colab": {
     "base_uri": "https://localhost:8080/",
     "height": 423
    },
    "id": "Qer5TEfnG_0A",
    "outputId": "37d7bcde-33a6-4067-f82d-28cc2d04e603"
   },
   "outputs": [
    {
     "data": {
      "text/html": [
       "\n",
       "  <div id=\"df-817cc219-bf24-4938-bad9-caceb9be503e\">\n",
       "    <div class=\"colab-df-container\">\n",
       "      <div>\n",
       "<style scoped>\n",
       "    .dataframe tbody tr th:only-of-type {\n",
       "        vertical-align: middle;\n",
       "    }\n",
       "\n",
       "    .dataframe tbody tr th {\n",
       "        vertical-align: top;\n",
       "    }\n",
       "\n",
       "    .dataframe thead th {\n",
       "        text-align: right;\n",
       "    }\n",
       "</style>\n",
       "<table border=\"1\" class=\"dataframe\">\n",
       "  <thead>\n",
       "    <tr style=\"text-align: right;\">\n",
       "      <th></th>\n",
       "      <th>description</th>\n",
       "      <th>variety</th>\n",
       "      <th>Red</th>\n",
       "      <th>variety_enc</th>\n",
       "    </tr>\n",
       "  </thead>\n",
       "  <tbody>\n",
       "    <tr>\n",
       "      <th>5888</th>\n",
       "      <td>could be a cool-climate sauvignon blanc, with ...</td>\n",
       "      <td>Chardonnay</td>\n",
       "      <td>0</td>\n",
       "      <td>0</td>\n",
       "    </tr>\n",
       "    <tr>\n",
       "      <th>5889</th>\n",
       "      <td>this serious, complex selection features a liv...</td>\n",
       "      <td>Chardonnay</td>\n",
       "      <td>0</td>\n",
       "      <td>0</td>\n",
       "    </tr>\n",
       "    <tr>\n",
       "      <th>5890</th>\n",
       "      <td>tangerine and citrus aromas give the bouquet a...</td>\n",
       "      <td>Chardonnay</td>\n",
       "      <td>0</td>\n",
       "      <td>0</td>\n",
       "    </tr>\n",
       "    <tr>\n",
       "      <th>5891</th>\n",
       "      <td>somewhat thick and pulpy in texture, with chun...</td>\n",
       "      <td>Chardonnay</td>\n",
       "      <td>0</td>\n",
       "      <td>0</td>\n",
       "    </tr>\n",
       "    <tr>\n",
       "      <th>5892</th>\n",
       "      <td>a creamy wine, its apple fruit flavors smoothe...</td>\n",
       "      <td>Chardonnay</td>\n",
       "      <td>0</td>\n",
       "      <td>0</td>\n",
       "    </tr>\n",
       "    <tr>\n",
       "      <th>...</th>\n",
       "      <td>...</td>\n",
       "      <td>...</td>\n",
       "      <td>...</td>\n",
       "      <td>...</td>\n",
       "    </tr>\n",
       "    <tr>\n",
       "      <th>18741</th>\n",
       "      <td>already showing signs of the kerosene aromas t...</td>\n",
       "      <td>Riesling</td>\n",
       "      <td>0</td>\n",
       "      <td>1</td>\n",
       "    </tr>\n",
       "    <tr>\n",
       "      <th>18742</th>\n",
       "      <td>beautifully pure notes of crisp cox's orange p...</td>\n",
       "      <td>Riesling</td>\n",
       "      <td>0</td>\n",
       "      <td>1</td>\n",
       "    </tr>\n",
       "    <tr>\n",
       "      <th>18743</th>\n",
       "      <td>fragrant yellow and purple flowers on the nose...</td>\n",
       "      <td>Riesling</td>\n",
       "      <td>0</td>\n",
       "      <td>1</td>\n",
       "    </tr>\n",
       "    <tr>\n",
       "      <th>18744</th>\n",
       "      <td>this is a pure, aesthetic wine, delicately out...</td>\n",
       "      <td>Riesling</td>\n",
       "      <td>0</td>\n",
       "      <td>1</td>\n",
       "    </tr>\n",
       "    <tr>\n",
       "      <th>18745</th>\n",
       "      <td>touches of autumn leaves and dried herbs lend ...</td>\n",
       "      <td>Riesling</td>\n",
       "      <td>0</td>\n",
       "      <td>1</td>\n",
       "    </tr>\n",
       "  </tbody>\n",
       "</table>\n",
       "<p>8453 rows × 4 columns</p>\n",
       "</div>\n",
       "      <button class=\"colab-df-convert\" onclick=\"convertToInteractive('df-817cc219-bf24-4938-bad9-caceb9be503e')\"\n",
       "              title=\"Convert this dataframe to an interactive table.\"\n",
       "              style=\"display:none;\">\n",
       "        \n",
       "  <svg xmlns=\"http://www.w3.org/2000/svg\" height=\"24px\"viewBox=\"0 0 24 24\"\n",
       "       width=\"24px\">\n",
       "    <path d=\"M0 0h24v24H0V0z\" fill=\"none\"/>\n",
       "    <path d=\"M18.56 5.44l.94 2.06.94-2.06 2.06-.94-2.06-.94-.94-2.06-.94 2.06-2.06.94zm-11 1L8.5 8.5l.94-2.06 2.06-.94-2.06-.94L8.5 2.5l-.94 2.06-2.06.94zm10 10l.94 2.06.94-2.06 2.06-.94-2.06-.94-.94-2.06-.94 2.06-2.06.94z\"/><path d=\"M17.41 7.96l-1.37-1.37c-.4-.4-.92-.59-1.43-.59-.52 0-1.04.2-1.43.59L10.3 9.45l-7.72 7.72c-.78.78-.78 2.05 0 2.83L4 21.41c.39.39.9.59 1.41.59.51 0 1.02-.2 1.41-.59l7.78-7.78 2.81-2.81c.8-.78.8-2.07 0-2.86zM5.41 20L4 18.59l7.72-7.72 1.47 1.35L5.41 20z\"/>\n",
       "  </svg>\n",
       "      </button>\n",
       "      \n",
       "  <style>\n",
       "    .colab-df-container {\n",
       "      display:flex;\n",
       "      flex-wrap:wrap;\n",
       "      gap: 12px;\n",
       "    }\n",
       "\n",
       "    .colab-df-convert {\n",
       "      background-color: #E8F0FE;\n",
       "      border: none;\n",
       "      border-radius: 50%;\n",
       "      cursor: pointer;\n",
       "      display: none;\n",
       "      fill: #1967D2;\n",
       "      height: 32px;\n",
       "      padding: 0 0 0 0;\n",
       "      width: 32px;\n",
       "    }\n",
       "\n",
       "    .colab-df-convert:hover {\n",
       "      background-color: #E2EBFA;\n",
       "      box-shadow: 0px 1px 2px rgba(60, 64, 67, 0.3), 0px 1px 3px 1px rgba(60, 64, 67, 0.15);\n",
       "      fill: #174EA6;\n",
       "    }\n",
       "\n",
       "    [theme=dark] .colab-df-convert {\n",
       "      background-color: #3B4455;\n",
       "      fill: #D2E3FC;\n",
       "    }\n",
       "\n",
       "    [theme=dark] .colab-df-convert:hover {\n",
       "      background-color: #434B5C;\n",
       "      box-shadow: 0px 1px 3px 1px rgba(0, 0, 0, 0.15);\n",
       "      filter: drop-shadow(0px 1px 2px rgba(0, 0, 0, 0.3));\n",
       "      fill: #FFFFFF;\n",
       "    }\n",
       "  </style>\n",
       "\n",
       "      <script>\n",
       "        const buttonEl =\n",
       "          document.querySelector('#df-817cc219-bf24-4938-bad9-caceb9be503e button.colab-df-convert');\n",
       "        buttonEl.style.display =\n",
       "          google.colab.kernel.accessAllowed ? 'block' : 'none';\n",
       "\n",
       "        async function convertToInteractive(key) {\n",
       "          const element = document.querySelector('#df-817cc219-bf24-4938-bad9-caceb9be503e');\n",
       "          const dataTable =\n",
       "            await google.colab.kernel.invokeFunction('convertToInteractive',\n",
       "                                                     [key], {});\n",
       "          if (!dataTable) return;\n",
       "\n",
       "          const docLinkHtml = 'Like what you see? Visit the ' +\n",
       "            '<a target=\"_blank\" href=https://colab.research.google.com/notebooks/data_table.ipynb>data table notebook</a>'\n",
       "            + ' to learn more about interactive tables.';\n",
       "          element.innerHTML = '';\n",
       "          dataTable['output_type'] = 'display_data';\n",
       "          await google.colab.output.renderOutput(dataTable, element);\n",
       "          const docLink = document.createElement('div');\n",
       "          docLink.innerHTML = docLinkHtml;\n",
       "          element.appendChild(docLink);\n",
       "        }\n",
       "      </script>\n",
       "    </div>\n",
       "  </div>\n",
       "  "
      ],
      "text/plain": [
       "                                             description     variety  Red  \\\n",
       "5888   could be a cool-climate sauvignon blanc, with ...  Chardonnay    0   \n",
       "5889   this serious, complex selection features a liv...  Chardonnay    0   \n",
       "5890   tangerine and citrus aromas give the bouquet a...  Chardonnay    0   \n",
       "5891   somewhat thick and pulpy in texture, with chun...  Chardonnay    0   \n",
       "5892   a creamy wine, its apple fruit flavors smoothe...  Chardonnay    0   \n",
       "...                                                  ...         ...  ...   \n",
       "18741  already showing signs of the kerosene aromas t...    Riesling    0   \n",
       "18742  beautifully pure notes of crisp cox's orange p...    Riesling    0   \n",
       "18743  fragrant yellow and purple flowers on the nose...    Riesling    0   \n",
       "18744  this is a pure, aesthetic wine, delicately out...    Riesling    0   \n",
       "18745  touches of autumn leaves and dried herbs lend ...    Riesling    0   \n",
       "\n",
       "       variety_enc  \n",
       "5888             0  \n",
       "5889             0  \n",
       "5890             0  \n",
       "5891             0  \n",
       "5892             0  \n",
       "...            ...  \n",
       "18741            1  \n",
       "18742            1  \n",
       "18743            1  \n",
       "18744            1  \n",
       "18745            1  \n",
       "\n",
       "[8453 rows x 4 columns]"
      ]
     },
     "execution_count": 99,
     "metadata": {},
     "output_type": "execute_result"
    }
   ],
   "source": [
    "# Transforming categorial classes into numerical classes for white wines\n",
    "white_wine_df = white_wine_df.dropna()\n",
    "le = LabelEncoder()\n",
    "white_wine_df['variety_enc'] = le.fit_transform(white_wine_df['variety'])\n",
    "white_wine_df.head(35000)"
   ]
  },
  {
   "cell_type": "code",
   "execution_count": 100,
   "metadata": {
    "id": "MLZnDEQkYVQd"
   },
   "outputs": [],
   "source": [
    "# Split the data into training and test sets (80% training, 20% test) for red wines\n",
    "X_red_train, X_red_test, y_red_train, y_red_test = train_test_split(red_wine_df['description'], red_wine_df['variety_enc'], test_size=0.2, random_state=42)\n",
    "\n",
    "# Split the test data into test and validation sets (50% test, 50% validation) for red wines\n",
    "X_red_test, X_red_val, y_red_test, y_red_val = train_test_split(X_red_test, y_red_test, test_size=0.5, random_state=42)"
   ]
  },
  {
   "cell_type": "code",
   "execution_count": 101,
   "metadata": {
    "id": "CEIVSqOKHfgJ"
   },
   "outputs": [],
   "source": [
    "# Split the data into training and test sets (80% training, 20% test) for white wines\n",
    "X_white_train, X_white_test, y_white_train, y_white_test = train_test_split(white_wine_df['description'], white_wine_df['variety_enc'], test_size=0.2, random_state=42)\n",
    "\n",
    "# Split the test data into test and validation sets (50% test, 50% validation) for white wines\n",
    "X_white_test, X_white_val, y_white_test, y_white_val = train_test_split(X_white_test, y_white_test, test_size=0.5, random_state=42)"
   ]
  },
  {
   "cell_type": "code",
   "execution_count": 102,
   "metadata": {
    "colab": {
     "base_uri": "https://localhost:8080/"
    },
    "id": "mF9lclO8YYyd",
    "outputId": "d65b41a6-2f3f-4a03-a104-b0fc23daeb07"
   },
   "outputs": [
    {
     "name": "stdout",
     "output_type": "stream",
     "text": [
      "{0: 0.125, 1: 0.125, 2: 0.125, 3: 0.125, 4: 0.125, 5: 0.125}\n"
     ]
    }
   ],
   "source": [
    "#Compute class_weights for red wines\n",
    "class_weights = {}\n",
    "for i in range(len(np.unique(y_red_train))):\n",
    "    class_weights[i] = 1 / 8\n",
    "\n",
    "print(class_weights)"
   ]
  },
  {
   "cell_type": "code",
   "execution_count": 103,
   "metadata": {
    "colab": {
     "base_uri": "https://localhost:8080/"
    },
    "id": "CxNCePHLIQ23",
    "outputId": "0527d7fd-7339-4b12-ebd4-0fe1b832260a"
   },
   "outputs": [
    {
     "name": "stdout",
     "output_type": "stream",
     "text": [
      "{0: 0.125, 1: 0.125}\n"
     ]
    }
   ],
   "source": [
    "#Compute class_weights for white wines\n",
    "class_weights2 = {}\n",
    "for i in range(len(np.unique(y_white_train))):\n",
    "    class_weights2[i] = 1 / 8\n",
    "\n",
    "print(class_weights2)"
   ]
  },
  {
   "cell_type": "code",
   "execution_count": 104,
   "metadata": {
    "id": "ZDdEcnUGZOSp"
   },
   "outputs": [],
   "source": [
    "# We load the tokenizer\n",
    "tokenizer = BertTokenizer.from_pretrained('bert-base-uncased')"
   ]
  },
  {
   "cell_type": "code",
   "execution_count": 105,
   "metadata": {
    "colab": {
     "base_uri": "https://localhost:8080/"
    },
    "id": "4GVA88oMUgY_",
    "outputId": "07725408-be7d-4741-e4ac-1a55bd7af36d"
   },
   "outputs": [
    {
     "name": "stdout",
     "output_type": "stream",
     "text": [
      "[101, 7592, 2088, 102]\n"
     ]
    }
   ],
   "source": [
    "print(tokenizer(\"Hello world\")['input_ids'])"
   ]
  },
  {
   "cell_type": "code",
   "execution_count": 106,
   "metadata": {
    "id": "v0TjtgrtZTiv"
   },
   "outputs": [],
   "source": [
    "# We tokenize our train and test sets for red wines\n",
    "train_red_encodings = tokenizer(list(X_red_train), truncation=True, padding=True)\n",
    "test_red_encodings = tokenizer(list(X_red_test), truncation=True, padding=True)"
   ]
  },
  {
   "cell_type": "code",
   "execution_count": 107,
   "metadata": {
    "id": "nYU-SmRCIoI4"
   },
   "outputs": [],
   "source": [
    "# We tokenize our train and test sets for white wines\n",
    "train_white_encodings = tokenizer(list(X_white_train), truncation=True, padding=True)\n",
    "test_white_encodings = tokenizer(list(X_white_test), truncation=True, padding=True)"
   ]
  },
  {
   "cell_type": "code",
   "execution_count": 108,
   "metadata": {
    "id": "YuGylwneXnkT"
   },
   "outputs": [],
   "source": [
    "validation_red_encodings = tokenizer(list(X_red_val), truncation=True, padding=True)"
   ]
  },
  {
   "cell_type": "code",
   "execution_count": 109,
   "metadata": {
    "id": "B5mRzEsVI_kj"
   },
   "outputs": [],
   "source": [
    "validation_white_encodings = tokenizer(list(X_white_val), truncation=True, padding=True)"
   ]
  },
  {
   "cell_type": "code",
   "execution_count": 110,
   "metadata": {
    "id": "K79T_tL5ZvnA"
   },
   "outputs": [],
   "source": [
    "# We convert our sets in tensor format\n",
    "train_red_dataset = tf.data.Dataset.from_tensor_slices((\n",
    "    dict(train_red_encodings),\n",
    "    y_red_train\n",
    ")).shuffle(len(X_red_train)).batch(32)\n",
    "\n",
    "test_red_dataset = tf.data.Dataset.from_tensor_slices((\n",
    "    dict(test_red_encodings),\n",
    "    y_red_test\n",
    ")).batch(32)\n"
   ]
  },
  {
   "cell_type": "code",
   "execution_count": 111,
   "metadata": {
    "id": "ifWMVn3KJLuf"
   },
   "outputs": [],
   "source": [
    "# We convert our sets in tensor format\n",
    "train_white_dataset = tf.data.Dataset.from_tensor_slices((\n",
    "    dict(train_white_encodings),\n",
    "    y_white_train\n",
    ")).shuffle(len(X_white_train)).batch(32)\n",
    "\n",
    "test_white_dataset = tf.data.Dataset.from_tensor_slices((\n",
    "    dict(test_white_encodings),\n",
    "    y_white_test\n",
    ")).batch(32)\n"
   ]
  },
  {
   "cell_type": "code",
   "execution_count": 112,
   "metadata": {
    "colab": {
     "base_uri": "https://localhost:8080/"
    },
    "id": "paVIxirta4-m",
    "outputId": "1d553064-7757-4be7-bf5b-8cc6ab8d2828"
   },
   "outputs": [
    {
     "name": "stdout",
     "output_type": "stream",
     "text": [
      "BertConfig {\n",
      "  \"architectures\": [\n",
      "    \"BertForMaskedLM\"\n",
      "  ],\n",
      "  \"attention_probs_dropout_prob\": 0.1,\n",
      "  \"classifier_dropout\": null,\n",
      "  \"gradient_checkpointing\": false,\n",
      "  \"hidden_act\": \"gelu\",\n",
      "  \"hidden_dropout_prob\": 0.1,\n",
      "  \"hidden_size\": 768,\n",
      "  \"id2label\": {\n",
      "    \"0\": \"LABEL_0\",\n",
      "    \"1\": \"LABEL_1\",\n",
      "    \"2\": \"LABEL_2\",\n",
      "    \"3\": \"LABEL_3\",\n",
      "    \"4\": \"LABEL_4\",\n",
      "    \"5\": \"LABEL_5\"\n",
      "  },\n",
      "  \"initializer_range\": 0.02,\n",
      "  \"intermediate_size\": 3072,\n",
      "  \"label2id\": {\n",
      "    \"LABEL_0\": 0,\n",
      "    \"LABEL_1\": 1,\n",
      "    \"LABEL_2\": 2,\n",
      "    \"LABEL_3\": 3,\n",
      "    \"LABEL_4\": 4,\n",
      "    \"LABEL_5\": 5\n",
      "  },\n",
      "  \"layer_norm_eps\": 1e-12,\n",
      "  \"max_position_embeddings\": 512,\n",
      "  \"model_type\": \"bert\",\n",
      "  \"num_attention_heads\": 12,\n",
      "  \"num_hidden_layers\": 12,\n",
      "  \"pad_token_id\": 0,\n",
      "  \"position_embedding_type\": \"absolute\",\n",
      "  \"transformers_version\": \"4.28.1\",\n",
      "  \"type_vocab_size\": 2,\n",
      "  \"use_cache\": true,\n",
      "  \"vocab_size\": 30522\n",
      "}\n",
      "\n"
     ]
    }
   ],
   "source": [
    "# Configure the BERT model for red wines\n",
    "config = BertConfig.from_pretrained('bert-base-uncased', num_labels=len(np.unique(y_red_train)))\n",
    "print(config)\n"
   ]
  },
  {
   "cell_type": "code",
   "execution_count": 114,
   "metadata": {
    "colab": {
     "base_uri": "https://localhost:8080/"
    },
    "id": "z__1LlizPJT-",
    "outputId": "2ef49f28-fc50-44b8-9d78-f0d23819dc64"
   },
   "outputs": [
    {
     "name": "stdout",
     "output_type": "stream",
     "text": [
      "BertConfig {\n",
      "  \"architectures\": [\n",
      "    \"BertForMaskedLM\"\n",
      "  ],\n",
      "  \"attention_probs_dropout_prob\": 0.1,\n",
      "  \"classifier_dropout\": null,\n",
      "  \"gradient_checkpointing\": false,\n",
      "  \"hidden_act\": \"gelu\",\n",
      "  \"hidden_dropout_prob\": 0.1,\n",
      "  \"hidden_size\": 768,\n",
      "  \"initializer_range\": 0.02,\n",
      "  \"intermediate_size\": 3072,\n",
      "  \"layer_norm_eps\": 1e-12,\n",
      "  \"max_position_embeddings\": 512,\n",
      "  \"model_type\": \"bert\",\n",
      "  \"num_attention_heads\": 12,\n",
      "  \"num_hidden_layers\": 12,\n",
      "  \"pad_token_id\": 0,\n",
      "  \"position_embedding_type\": \"absolute\",\n",
      "  \"transformers_version\": \"4.28.1\",\n",
      "  \"type_vocab_size\": 2,\n",
      "  \"use_cache\": true,\n",
      "  \"vocab_size\": 30522\n",
      "}\n",
      "\n"
     ]
    }
   ],
   "source": [
    "# Configure the BERT model for white wines\n",
    "config2 = BertConfig.from_pretrained('bert-base-uncased', num_labels=len(np.unique(y_white_train)))\n",
    "print(config2)"
   ]
  },
  {
   "cell_type": "code",
   "execution_count": 115,
   "metadata": {
    "colab": {
     "base_uri": "https://localhost:8080/"
    },
    "id": "7QFZHspEbpiY",
    "outputId": "df8b759f-7fca-4588-c0a6-4dd93b2bd99b"
   },
   "outputs": [
    {
     "name": "stderr",
     "output_type": "stream",
     "text": [
      "All model checkpoint layers were used when initializing TFBertForSequenceClassification.\n",
      "\n",
      "Some layers of TFBertForSequenceClassification were not initialized from the model checkpoint at bert-base-uncased and are newly initialized: ['classifier']\n",
      "You should probably TRAIN this model on a down-stream task to be able to use it for predictions and inference.\n",
      "All model checkpoint layers were used when initializing TFBertForSequenceClassification.\n",
      "\n",
      "Some layers of TFBertForSequenceClassification were not initialized from the model checkpoint at bert-base-uncased and are newly initialized: ['classifier']\n",
      "You should probably TRAIN this model on a down-stream task to be able to use it for predictions and inference.\n"
     ]
    }
   ],
   "source": [
    "# We load two pre-trained models\n",
    "model = TFBertForSequenceClassification.from_pretrained('bert-base-uncased', config=config)\n",
    "model2 = TFBertForSequenceClassification.from_pretrained('bert-base-uncased', config=config2)\n"
   ]
  },
  {
   "cell_type": "code",
   "execution_count": 116,
   "metadata": {
    "id": "Uor6Adojb9zD"
   },
   "outputs": [],
   "source": [
    "# We compile our two models\n",
    "model.compile(optimizer=Adam(learning_rate=2e-5),\n",
    "              loss=SparseCategoricalCrossentropy(from_logits=True),\n",
    "              metrics=['sparse_categorical_accuracy'])\n",
    "model2.compile(optimizer=Adam(learning_rate=2e-5),\n",
    "              loss=SparseCategoricalCrossentropy(from_logits=True),\n",
    "              metrics=['sparse_categorical_accuracy'])"
   ]
  },
  {
   "cell_type": "code",
   "execution_count": 117,
   "metadata": {
    "id": "_DPrzCnJcPoi"
   },
   "outputs": [],
   "source": [
    "# We build our two early stoppins\n",
    "es = EarlyStopping(monitor='val_loss', patience=2, verbose=1)\n",
    "es2 = EarlyStopping(monitor='val_loss', patience=2, verbose=1)"
   ]
  },
  {
   "cell_type": "code",
   "execution_count": 118,
   "metadata": {
    "colab": {
     "base_uri": "https://localhost:8080/"
    },
    "id": "43W8JhBRcSrc",
    "outputId": "5f0ccb31-8958-4d87-abef-ca00a04048d0"
   },
   "outputs": [
    {
     "name": "stdout",
     "output_type": "stream",
     "text": [
      "Epoch 1/3\n",
      "388/388 [==============================] - 462s 1s/step - loss: 0.1125 - sparse_categorical_accuracy: 0.6866 - val_loss: 0.6252 - val_sparse_categorical_accuracy: 0.7870\n",
      "Epoch 2/3\n",
      "388/388 [==============================] - 418s 1s/step - loss: 0.0650 - sparse_categorical_accuracy: 0.8164 - val_loss: 0.5326 - val_sparse_categorical_accuracy: 0.8167\n",
      "Epoch 3/3\n",
      "388/388 [==============================] - 415s 1s/step - loss: 0.0475 - sparse_categorical_accuracy: 0.8687 - val_loss: 0.5336 - val_sparse_categorical_accuracy: 0.8108\n"
     ]
    }
   ],
   "source": [
    "# We fit the model on red wines\n",
    "history = model.fit(train_red_dataset,\n",
    "                    epochs=3,\n",
    "                    validation_data=test_red_dataset,\n",
    "                    callbacks=[es],\n",
    "                    class_weight=class_weights)"
   ]
  },
  {
   "cell_type": "code",
   "execution_count": 119,
   "metadata": {
    "colab": {
     "base_uri": "https://localhost:8080/"
    },
    "id": "RmsXGPG_Vgkb",
    "outputId": "c2208a04-3b03-4d40-a3af-437dbc760b57"
   },
   "outputs": [
    {
     "name": "stdout",
     "output_type": "stream",
     "text": [
      "Epoch 1/3\n",
      "212/212 [==============================] - 251s 960ms/step - loss: 0.0331 - sparse_categorical_accuracy: 0.8793 - val_loss: 0.1634 - val_sparse_categorical_accuracy: 0.9266\n",
      "Epoch 2/3\n",
      "212/212 [==============================] - 205s 969ms/step - loss: 0.0138 - sparse_categorical_accuracy: 0.9568 - val_loss: 0.1572 - val_sparse_categorical_accuracy: 0.9444\n",
      "Epoch 3/3\n",
      "212/212 [==============================] - 207s 977ms/step - loss: 0.0078 - sparse_categorical_accuracy: 0.9793 - val_loss: 0.1530 - val_sparse_categorical_accuracy: 0.9491\n"
     ]
    }
   ],
   "source": [
    "# We fit the model for white wines\n",
    "history2 = model2.fit(train_white_dataset,\n",
    "                    epochs=3,\n",
    "                    validation_data=test_white_dataset,\n",
    "                    callbacks=[es2],\n",
    "                    class_weight=class_weights2)"
   ]
  },
  {
   "cell_type": "code",
   "execution_count": 120,
   "metadata": {
    "colab": {
     "base_uri": "https://localhost:8080/"
    },
    "id": "QIB5Sau9ieLh",
    "outputId": "9fd196ba-9575-4a46-b025-b46c96ef70dc"
   },
   "outputs": [
    {
     "name": "stdout",
     "output_type": "stream",
     "text": [
      "<_BatchDataset element_spec=({'input_ids': TensorSpec(shape=(None, 134), dtype=tf.int32, name=None), 'token_type_ids': TensorSpec(shape=(None, 134), dtype=tf.int32, name=None), 'attention_mask': TensorSpec(shape=(None, 134), dtype=tf.int32, name=None)}, TensorSpec(shape=(None,), dtype=tf.int64, name=None))>\n",
      "<_BatchDataset element_spec=({'input_ids': TensorSpec(shape=(None, 123), dtype=tf.int32, name=None), 'token_type_ids': TensorSpec(shape=(None, 123), dtype=tf.int32, name=None), 'attention_mask': TensorSpec(shape=(None, 123), dtype=tf.int32, name=None)}, TensorSpec(shape=(None,), dtype=tf.int64, name=None))>\n"
     ]
    }
   ],
   "source": [
    "# Load the test data and encode it with the same tokenizer used for training\n",
    "validation_red_encodings = tokenizer(list(X_red_val), truncation=True, padding=True)\n",
    "\n",
    "# Create a TensorFlow Dataset from the encoded test data and labels\n",
    "validation_dataset_red = tf.data.Dataset.from_tensor_slices((dict(validation_red_encodings), y_red_val)).batch(32)\n",
    "print(validation_dataset_red)\n",
    "\n",
    "# Load the test data and encode it with the same tokenizer used for training\n",
    "validation_white_encodings = tokenizer(list(X_white_val), truncation=True, padding=True)\n",
    "\n",
    "\n",
    "# Create a TensorFlow Dataset from the encoded test data and labels\n",
    "validation_dataset_white = tf.data.Dataset.from_tensor_slices((dict(validation_white_encodings), y_white_val)).batch(32)\n",
    "print(validation_dataset_white)"
   ]
  },
  {
   "cell_type": "code",
   "execution_count": 121,
   "metadata": {
    "colab": {
     "base_uri": "https://localhost:8080/"
    },
    "id": "dAV6JPzhdoGv",
    "outputId": "d9ca4977-0d91-44d9-d89e-20635d15c708"
   },
   "outputs": [
    {
     "name": "stdout",
     "output_type": "stream",
     "text": [
      "49/49 [==============================] - 17s 278ms/step\n",
      "49\n",
      "27/27 [==============================] - 10s 252ms/step\n"
     ]
    }
   ],
   "source": [
    "# Make predictions on test dataset\n",
    "predictions_red = model.predict(validation_dataset_red)\n",
    "print(len(validation_dataset_red))\n",
    "# Make predictions on test dataset\n",
    "predictions_white = model2.predict(validation_dataset_white)"
   ]
  },
  {
   "cell_type": "code",
   "execution_count": 122,
   "metadata": {
    "colab": {
     "base_uri": "https://localhost:8080/"
    },
    "id": "b1m6PyBMepNm",
    "outputId": "69f097c2-c3d6-454e-f6d6-5f78441ee38f"
   },
   "outputs": [
    {
     "name": "stdout",
     "output_type": "stream",
     "text": [
      "              precision    recall  f1-score   support\n",
      "\n",
      "           0       0.86      0.81      0.83       462\n",
      "           1       0.89      0.46      0.61       110\n",
      "           2       0.64      0.74      0.69       229\n",
      "           3       0.85      0.96      0.90       590\n",
      "           4       0.89      0.78      0.83        73\n",
      "           5       0.95      0.69      0.80        86\n",
      "\n",
      "    accuracy                           0.82      1550\n",
      "   macro avg       0.85      0.74      0.78      1550\n",
      "weighted avg       0.83      0.82      0.82      1550\n",
      "\n"
     ]
    }
   ],
   "source": [
    "logits = predictions_red.logits\n",
    "# Get the predicted labels\n",
    "label_list = [0,1,2,3,4,5]\n",
    "predicted_labels_red = tf.argmax(logits, axis=-1).numpy()\n",
    "predicted_labels_red = [label_list[label] for label in predicted_labels_red]\n",
    "\n",
    "# Print the classification report\n",
    "print(classification_report(y_red_val, predicted_labels_red))"
   ]
  },
  {
   "cell_type": "code",
   "execution_count": 123,
   "metadata": {
    "colab": {
     "base_uri": "https://localhost:8080/"
    },
    "id": "OZ05jW6QYqub",
    "outputId": "a569f505-4f18-46fb-b43d-0d2e65bed5ce"
   },
   "outputs": [
    {
     "name": "stdout",
     "output_type": "stream",
     "text": [
      "              precision    recall  f1-score   support\n",
      "\n",
      "           0       0.96      0.98      0.97       572\n",
      "           1       0.97      0.92      0.94       274\n",
      "\n",
      "    accuracy                           0.96       846\n",
      "   macro avg       0.96      0.95      0.96       846\n",
      "weighted avg       0.96      0.96      0.96       846\n",
      "\n"
     ]
    }
   ],
   "source": [
    "logits = predictions_white.logits\n",
    "# Get the predicted labels\n",
    "label_list = [0,1]\n",
    "predicted_labels = tf.argmax(logits, axis=-1).numpy()\n",
    "predicted_labels_white = [label_list[label] for label in predicted_labels]\n",
    "\n",
    "# Print the classification report\n",
    "print(classification_report(y_white_val, predicted_labels_white))"
   ]
  },
  {
   "cell_type": "code",
   "execution_count": 124,
   "metadata": {
    "colab": {
     "base_uri": "https://localhost:8080/",
     "height": 449
    },
    "id": "7NTLVziTmgFv",
    "outputId": "3eda775b-bc8c-4f42-c7e2-32ea24e0efb5"
   },
   "outputs": [
    {
     "data": {
      "image/png": "[encoded data removed]",
      "text/plain": [
       "<Figure size 640x480 with 2 Axes>"
      ]
     },
     "metadata": {},
     "output_type": "display_data"
    }
   ],
   "source": [
    "from sklearn import metrics\n",
    "import matplotlib.pyplot as plt\n",
    "confusion_matrix = metrics.confusion_matrix(y_red_val,predicted_labels_red)\n",
    "cm_display = metrics.ConfusionMatrixDisplay(confusion_matrix = confusion_matrix, display_labels = [\"Cabernet Sauvignon\" ,\"Malbec\",\"Merlot\",\"Pinot Noir\",\"Sangiovese\",\"Zinfandel\"])\n",
    "\n",
    "cm_display.plot()\n",
    "plt.show()"
   ]
  },
  {
   "cell_type": "code",
   "execution_count": 125,
   "metadata": {
    "colab": {
     "base_uri": "https://localhost:8080/",
     "height": 449
    },
    "id": "NnlGfY4raW-s",
    "outputId": "c3df14c3-0c78-4f9a-e0a7-66c4ea2e60c9"
   },
   "outputs": [
    {
     "data": {
      "image/png": "[encoded data removed]",
      "text/plain": [
       "<Figure size 640x480 with 2 Axes>"
      ]
     },
     "metadata": {},
     "output_type": "display_data"
    }
   ],
   "source": [
    "from sklearn import metrics\n",
    "import matplotlib.pyplot as plt\n",
    "confusion_matrix = metrics.confusion_matrix(y_white_val,predicted_labels_white)\n",
    "cm_display = metrics.ConfusionMatrixDisplay(confusion_matrix = confusion_matrix, display_labels = [ \"Chardonnay\",\"Riesling\"])\n",
    "\n",
    "cm_display.plot()\n",
    "plt.show()"
   ]
  }
 ],
 "metadata": {
  "accelerator": "GPU",
  "colab": {
   "provenance": []
  },
  "gpuClass": "standard",
  "kernelspec": {
   "display_name": "Python 3",
   "language": "python",
   "name": "python3"
  },
  "language_info": {
   "codemirror_mode": {
    "name": "ipython",
    "version": 3
   },
   "file_extension": ".py",
   "mimetype": "text/x-python",
   "name": "python",
   "nbconvert_exporter": "python",
   "pygments_lexer": "ipython3",
   "version": "3.7.6"
  }
 },
 "nbformat": 4,
 "nbformat_minor": 4
}
