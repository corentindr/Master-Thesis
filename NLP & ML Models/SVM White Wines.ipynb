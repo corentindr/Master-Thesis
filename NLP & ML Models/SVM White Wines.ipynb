{
 "cells": [
  {
   "cell_type": "code",
   "execution_count": 23,
   "metadata": {},
   "outputs": [],
   "source": [
    "#Import dataset and libs\n",
    "%matplotlib inline\n",
    "from sklearn import datasets\n",
    "import matplotlib.pyplot as plt\n",
    "import seaborn as sns\n",
    "import pandas as pd\n",
    "import numpy as np\n",
    "from sklearn.model_selection import train_test_split\n",
    "from sklearn.svm import SVC\n",
    "from sklearn import metrics\n",
    "from sklearn.metrics import accuracy_score\n",
    "from sklearn.metrics import classification_report\n",
    "from sklearn.model_selection import GridSearchCV"
   ]
  },
  {
   "cell_type": "markdown",
   "metadata": {},
   "source": [
    "# Dataset Preparation"
   ]
  },
  {
   "cell_type": "code",
   "execution_count": 24,
   "metadata": {},
   "outputs": [],
   "source": [
    "#loading the dataset\n",
    "wine_dataframe = pd.read_csv('modified_datatest.csv', index_col=0)\n",
    "\n",
    "#dataset cleaning\n",
    "wine_dataframe = wine_dataframe.drop('URLS', axis=1)\n",
    "wine_dataframe = wine_dataframe.drop('Tranquille to Mousseux', axis=1)\n",
    "wine_dataframe = wine_dataframe[wine_dataframe['Red'] != 1]\n",
    "wine_dataframe = wine_dataframe.drop('Red', axis=1)\n",
    "\n",
    "wine_dataframe['Léger to Puissant'] = wine_dataframe['Léger to Puissant'].str.replace(';', '')\n",
    "wine_dataframe['Souple to Tannique'] = wine_dataframe['Souple to Tannique'].str.replace(';', '')\n",
    "wine_dataframe['Sec to Moelleux'] = wine_dataframe['Sec to Moelleux'].str.replace(';', '')\n",
    "wine_dataframe['Doux to Acide'] = wine_dataframe['Doux to Acide'].str.replace(';', '')\n",
    "wine_dataframe['Léger to Puissant'] = wine_dataframe['Léger to Puissant'].astype(float)\n",
    "wine_dataframe['Souple to Tannique'] = wine_dataframe['Souple to Tannique'].astype(float)\n",
    "wine_dataframe['Sec to Moelleux'] = wine_dataframe['Sec to Moelleux'].astype(float)\n",
    "wine_dataframe['Doux to Acide'] = wine_dataframe['Doux to Acide'].astype(float)\n",
    "wine_dataframe = wine_dataframe.reset_index(drop=True)\n",
    "\n",
    "wine_dataframe['Aromas'] = wine_dataframe['Aromas'].str.replace('/+', '+', regex=True)\n",
    "wine_dataframe['Aromas'] = wine_dataframe['Aromas'].str.replace(',+', '+', regex=True)\n",
    "wine_dataframe['Olphactive'] = wine_dataframe['Olphactive'].str.replace('/+', '+', regex=True)\n",
    "wine_dataframe['Olphactive'] = wine_dataframe['Olphactive'].str.replace(',+', '+', regex=True)\n",
    "wine_dataframe['Aromas'] = wine_dataframe['Aromas'].str.replace('Ã©', 'é', regex=True)\n",
    "wine_dataframe['Aromas'] = wine_dataframe['Aromas'].str.replace('Ã‰', 'é', regex=True)\n",
    "wine_dataframe['Olphactive'] = wine_dataframe['Olphactive'].str.replace('Ã©', 'é', regex=True)\n",
    "wine_dataframe['Olphactive'] = wine_dataframe['Olphactive'].str.replace('Ã‰', 'é', regex=True)\n",
    "wine_dataframe['Aromas'] = wine_dataframe['Aromas'].str.lower()\n",
    "wine_dataframe['Olphactive'] = wine_dataframe['Olphactive'].str.lower()\n",
    "wine_dataframe['Aromas'] = wine_dataframe['Aromas'].str.lstrip('+')\n",
    "wine_dataframe['Olphactive'] = wine_dataframe['Olphactive'].str.lstrip('+')\n",
    "wine_dataframe['Aromas'] = wine_dataframe['Aromas'].str.split('+')\n",
    "wine_dataframe['Olphactive'] = wine_dataframe['Olphactive'].str.split('+')\n",
    "\n",
    "wine_dataframe['Aromas'] = wine_dataframe['Aromas'].apply(lambda x: [] if isinstance(x, float) else x)\n",
    "wine_dataframe['Olphactive'] = wine_dataframe['Olphactive'].apply(lambda x: [] if isinstance(x, float) else x)"
   ]
  },
  {
   "cell_type": "code",
   "execution_count": 25,
   "metadata": {},
   "outputs": [],
   "source": [
    "#transformation of word lists for aromas into columns of binary variables. \n",
    "mlb = MultiLabelBinarizer()\n",
    "Aromas_one_hot_encoded = mlb.fit_transform(wine_dataframe['Aromas'])\n",
    "Aromas_df_encoded = pd.DataFrame(Aromas_one_hot_encoded, columns=mlb.classes_)\n",
    "Olphactive_one_hot_encoded = mlb.fit_transform(wine_dataframe['Olphactive'])\n",
    "Olphactive_df_encoded = pd.DataFrame(Olphactive_one_hot_encoded, columns=mlb.classes_)\n",
    "df_concatenated_0 = pd.concat([wine_dataframe, Aromas_df_encoded], axis=1)\n",
    "df_concatenated = pd.concat([df_concatenated_0, Olphactive_df_encoded], axis=1)\n",
    "\n",
    "df_concatenated.drop('Aromas', axis=1, inplace=True)\n",
    "df_concatenated.drop('Olphactive', axis=1, inplace=True)"
   ]
  },
  {
   "cell_type": "code",
   "execution_count": 26,
   "metadata": {},
   "outputs": [],
   "source": [
    "#remove the observations for which all continuous values are missing\n",
    "mask = (df_concatenated['Léger to Puissant'] != 0) | (df_concatenated['Souple to Tannique'] != 0) | (df_concatenated['Sec to Moelleux'] != 0) | (df_concatenated['Doux to Acide'] != 0)\n",
    "df_concatenated = df_concatenated[mask]"
   ]
  },
  {
   "cell_type": "markdown",
   "metadata": {},
   "source": [
    "# Datset Split"
   ]
  },
  {
   "cell_type": "code",
   "execution_count": 27,
   "metadata": {},
   "outputs": [],
   "source": [
    "#Split the varieties and the parameters\n",
    "X = df_concatenated.drop('Cépages', axis=1)\n",
    "y = df_concatenated['Cépages']\n",
    "\n",
    "#Split the dataset into train and test\n",
    "X_train, X_test, y_train, y_test = train_test_split(X, y, test_size = 0.10, random_state=42)"
   ]
  },
  {
   "cell_type": "markdown",
   "metadata": {},
   "source": [
    "# Prediction"
   ]
  },
  {
   "cell_type": "code",
   "execution_count": 28,
   "metadata": {},
   "outputs": [
    {
     "name": "stdout",
     "output_type": "stream",
     "text": [
      "              precision    recall  f1-score   support\n",
      "\n",
      "  Chardonnay       0.98      0.98      0.98       566\n",
      "    Riesling       0.96      0.95      0.96       280\n",
      "\n",
      "    accuracy                           0.97       846\n",
      "   macro avg       0.97      0.97      0.97       846\n",
      "weighted avg       0.97      0.97      0.97       846\n",
      "\n"
     ]
    }
   ],
   "source": [
    "#Selection of model parameters\n",
    "classifier = SVC(C=100.0, kernel='rbf', degree=3, gamma='auto')\n",
    "\n",
    "#Train the model on train dataset\n",
    "classifier.fit(X_train, y_train)\n",
    "\n",
    "#Predict varieties of test dataset\n",
    "y_pred = classifier.predict(X_test)\n",
    "\n",
    "#Print the results\n",
    "print(classification_report(y_test, y_pred))"
   ]
  },
  {
   "cell_type": "code",
   "execution_count": 35,
   "metadata": {},
   "outputs": [
    {
     "data": {
      "image/png": "[encoded data removed]",
      "text/plain": [
       "<Figure size 1080x1080 with 2 Axes>"
      ]
     },
     "metadata": {
      "needs_background": "light"
     },
     "output_type": "display_data"
    }
   ],
   "source": [
    "#Creation of a confusion matrix\n",
    "fig, ax = plt.subplots(figsize=(15, 15))\n",
    "confusion_matrix = metrics.confusion_matrix(y_test, y_pred)\n",
    "cm_display = metrics.ConfusionMatrixDisplay(confusion_matrix=confusion_matrix, display_labels=[\"Chardonnay\", \"Riesling\"])\n",
    "cm_display.plot(ax=ax)\n",
    "\n",
    "plt.savefig('wine_confusion_continuous_matrix.png', dpi=300)\n",
    "plt.show()"
   ]
  },
  {
   "cell_type": "markdown",
   "metadata": {},
   "source": [
    "# GridSearch"
   ]
  },
  {
   "cell_type": "code",
   "execution_count": null,
   "metadata": {},
   "outputs": [],
   "source": [
    "#Optimize model parameters\n",
    "svm_model = SVC()\n",
    "param_grid = {'C': [1, 10, 50, 100, 150], 'kernel': ['linear', 'rbf', 'poly', 'sigmoid'], 'gamma': ['auto', 'scale']}\n",
    "grid_search = GridSearchCV(svm_model, param_grid, cv=5, verbose = 4, scoring='accuracy')\n",
    "grid_search.fit(X_train, y_train)"
   ]
  },
  {
   "cell_type": "code",
   "execution_count": 14,
   "metadata": {},
   "outputs": [
    {
     "name": "stdout",
     "output_type": "stream",
     "text": [
      "Best hyperparameters:  {'C': 100, 'gamma': 'auto', 'kernel': 'rbf'}\n",
      "Best score:  0.9739715486864237\n"
     ]
    }
   ],
   "source": [
    "print(\"Best hyperparameters: \", grid_search.best_params_)\n",
    "print(\"Best score: \", grid_search.best_score_)"
   ]
  }
 ],
 "metadata": {
  "kernelspec": {
   "display_name": "Python 3",
   "language": "python",
   "name": "python3"
  },
  "language_info": {
   "codemirror_mode": {
    "name": "ipython",
    "version": 3
   },
   "file_extension": ".py",
   "mimetype": "text/x-python",
   "name": "python",
   "nbconvert_exporter": "python",
   "pygments_lexer": "ipython3",
   "version": "3.7.6"
  }
 },
 "nbformat": 4,
 "nbformat_minor": 4
}
