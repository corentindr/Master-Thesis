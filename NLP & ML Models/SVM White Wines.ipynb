{
 "cells": [
  {
   "cell_type": "code",
   "execution_count": 2,
   "metadata": {},
   "outputs": [],
   "source": [
    "#Import du data set et des libs\n",
    "%matplotlib inline\n",
    "from sklearn import datasets\n",
    "import matplotlib.pyplot as plt\n",
    "import seaborn as sns\n",
    "import pandas as pd\n",
    "import numpy as np"
   ]
  },
  {
   "cell_type": "code",
   "execution_count": 3,
   "metadata": {},
   "outputs": [
    {
     "name": "stdout",
     "output_type": "stream",
     "text": [
      "35218\n",
      "11382\n"
     ]
    },
    {
     "data": {
      "text/html": [
       "<div>\n",
       "<style scoped>\n",
       "    .dataframe tbody tr th:only-of-type {\n",
       "        vertical-align: middle;\n",
       "    }\n",
       "\n",
       "    .dataframe tbody tr th {\n",
       "        vertical-align: top;\n",
       "    }\n",
       "\n",
       "    .dataframe thead th {\n",
       "        text-align: right;\n",
       "    }\n",
       "</style>\n",
       "<table border=\"1\" class=\"dataframe\">\n",
       "  <thead>\n",
       "    <tr style=\"text-align: right;\">\n",
       "      <th></th>\n",
       "      <th>Léger to Puissant</th>\n",
       "      <th>Souple to Tannique</th>\n",
       "      <th>Sec to Moelleux</th>\n",
       "      <th>Doux to Acide</th>\n",
       "      <th>Aromas</th>\n",
       "      <th>Olphactive</th>\n",
       "      <th>Cépages</th>\n",
       "    </tr>\n",
       "  </thead>\n",
       "  <tbody>\n",
       "    <tr>\n",
       "      <th>0</th>\n",
       "      <td>65.201545</td>\n",
       "      <td>0.0</td>\n",
       "      <td>37.437689</td>\n",
       "      <td>54.676918</td>\n",
       "      <td>miel, truffe/crème, huile/boisé, beurre//Minér...</td>\n",
       "      <td>d'ananas/miel/agrumes/d'épices/fruits (d'arbre...</td>\n",
       "      <td>Chardonnay</td>\n",
       "    </tr>\n",
       "    <tr>\n",
       "      <th>1</th>\n",
       "      <td>66.713719</td>\n",
       "      <td>0.0</td>\n",
       "      <td>0.000000</td>\n",
       "      <td>79.210939</td>\n",
       "      <td>miel, truffe/beurre, caramel/crème, levure/poi...</td>\n",
       "      <td>de crème/fermenté (levuré)/salé/de noisette/me...</td>\n",
       "      <td>Chardonnay</td>\n",
       "    </tr>\n",
       "    <tr>\n",
       "      <th>2</th>\n",
       "      <td>65.576832</td>\n",
       "      <td>0.0</td>\n",
       "      <td>34.564391</td>\n",
       "      <td>55.524817</td>\n",
       "      <td>beurre, boisé/banane, crème/miel, fumée//Boisé...</td>\n",
       "      <td>d'ananas/miel/agrumes/d'épices/fruits (d'arbre...</td>\n",
       "      <td>Chardonnay</td>\n",
       "    </tr>\n",
       "    <tr>\n",
       "      <th>3</th>\n",
       "      <td>67.706619</td>\n",
       "      <td>0.0</td>\n",
       "      <td>30.949437</td>\n",
       "      <td>54.600156</td>\n",
       "      <td>miel, pierre/beurre, boisé/crème, huile///Miné...</td>\n",
       "      <td>d'ananas/miel/agrumes/d'épices/fruits (d'arbre...</td>\n",
       "      <td>Chardonnay</td>\n",
       "    </tr>\n",
       "    <tr>\n",
       "      <th>4</th>\n",
       "      <td>75.775295</td>\n",
       "      <td>0.0</td>\n",
       "      <td>0.000000</td>\n",
       "      <td>77.456138</td>\n",
       "      <td>miel, fumée/boisé, caramel/crème, levure/foin,...</td>\n",
       "      <td>de caramel écossais/minéral &amp; terre/noisette/d...</td>\n",
       "      <td>Chardonnay</td>\n",
       "    </tr>\n",
       "  </tbody>\n",
       "</table>\n",
       "</div>"
      ],
      "text/plain": [
       "   Léger to Puissant  Souple to Tannique  Sec to Moelleux  Doux to Acide  \\\n",
       "0          65.201545                 0.0        37.437689      54.676918   \n",
       "1          66.713719                 0.0         0.000000      79.210939   \n",
       "2          65.576832                 0.0        34.564391      55.524817   \n",
       "3          67.706619                 0.0        30.949437      54.600156   \n",
       "4          75.775295                 0.0         0.000000      77.456138   \n",
       "\n",
       "                                              Aromas  \\\n",
       "0  miel, truffe/crème, huile/boisé, beurre//Minér...   \n",
       "1  miel, truffe/beurre, caramel/crème, levure/poi...   \n",
       "2  beurre, boisé/banane, crème/miel, fumée//Boisé...   \n",
       "3  miel, pierre/beurre, boisé/crème, huile///Miné...   \n",
       "4  miel, fumée/boisé, caramel/crème, levure/foin,...   \n",
       "\n",
       "                                          Olphactive     Cépages  \n",
       "0  d'ananas/miel/agrumes/d'épices/fruits (d'arbre...  Chardonnay  \n",
       "1  de crème/fermenté (levuré)/salé/de noisette/me...  Chardonnay  \n",
       "2  d'ananas/miel/agrumes/d'épices/fruits (d'arbre...  Chardonnay  \n",
       "3  d'ananas/miel/agrumes/d'épices/fruits (d'arbre...  Chardonnay  \n",
       "4  de caramel écossais/minéral & terre/noisette/d...  Chardonnay  "
      ]
     },
     "execution_count": 3,
     "metadata": {},
     "output_type": "execute_result"
    }
   ],
   "source": [
    "#chargement du jeu de donnees\n",
    "wine_dataframe = pd.read_csv('modified_datatest.csv', index_col=0)\n",
    "print(len(wine_dataframe))\n",
    "wine_dataframe = wine_dataframe.drop('URLS', axis=1)\n",
    "wine_dataframe = wine_dataframe.drop('Tranquille to Mousseux', axis=1)\n",
    "wine_dataframe = wine_dataframe[wine_dataframe['Red'] != 1]\n",
    "wine_dataframe = wine_dataframe.drop('Red', axis=1)\n",
    "print(len(wine_dataframe))\n",
    "\n",
    "wine_dataframe['Léger to Puissant'] = wine_dataframe['Léger to Puissant'].str.replace(';', '')\n",
    "wine_dataframe['Souple to Tannique'] = wine_dataframe['Souple to Tannique'].str.replace(';', '')\n",
    "wine_dataframe['Sec to Moelleux'] = wine_dataframe['Sec to Moelleux'].str.replace(';', '')\n",
    "wine_dataframe['Doux to Acide'] = wine_dataframe['Doux to Acide'].str.replace(';', '')\n",
    "wine_dataframe['Léger to Puissant'] = wine_dataframe['Léger to Puissant'].astype(float)\n",
    "wine_dataframe['Souple to Tannique'] = wine_dataframe['Souple to Tannique'].astype(float)\n",
    "wine_dataframe['Sec to Moelleux'] = wine_dataframe['Sec to Moelleux'].astype(float)\n",
    "wine_dataframe['Doux to Acide'] = wine_dataframe['Doux to Acide'].astype(float)\n",
    "wine_dataframe = wine_dataframe.reset_index(drop=True)\n",
    "wine_dataframe.head(5)"
   ]
  },
  {
   "cell_type": "code",
   "execution_count": 4,
   "metadata": {},
   "outputs": [
    {
     "name": "stdout",
     "output_type": "stream",
     "text": [
      "       Léger to Puissant  Souple to Tannique  Sec to Moelleux  Doux to Acide\n",
      "count       11382.000000        11382.000000     11382.000000   11382.000000\n",
      "mean           42.132041            0.062885        21.970883      44.151488\n",
      "std            25.479150            1.908402        16.187063      28.705128\n",
      "min             0.000000            0.000000         0.000000       0.000000\n",
      "25%             0.000000            0.000000         0.000000       0.000000\n",
      "50%            51.971440            0.000000        25.118579      54.604228\n",
      "75%            59.500000            0.000000        32.407044      65.337973\n",
      "max            85.000000           75.890601        69.905003      85.000000\n"
     ]
    },
    {
     "name": "stderr",
     "output_type": "stream",
     "text": [
      "/opt/tljh/user/lib/python3.7/site-packages/ipykernel_launcher.py:1: FutureWarning: The default value of regex will change from True to False in a future version.\n",
      "  \"\"\"Entry point for launching an IPython kernel.\n",
      "/opt/tljh/user/lib/python3.7/site-packages/ipykernel_launcher.py:2: FutureWarning: The default value of regex will change from True to False in a future version.\n",
      "  \n",
      "/opt/tljh/user/lib/python3.7/site-packages/ipykernel_launcher.py:3: FutureWarning: The default value of regex will change from True to False in a future version.\n",
      "  This is separate from the ipykernel package so we can avoid doing imports until\n",
      "/opt/tljh/user/lib/python3.7/site-packages/ipykernel_launcher.py:4: FutureWarning: The default value of regex will change from True to False in a future version.\n",
      "  after removing the cwd from sys.path.\n"
     ]
    }
   ],
   "source": [
    "wine_dataframe['Aromas'] = wine_dataframe['Aromas'].str.replace('/+', '+')\n",
    "wine_dataframe['Aromas'] = wine_dataframe['Aromas'].str.replace(',+', '+')\n",
    "wine_dataframe['Olphactive'] = wine_dataframe['Olphactive'].str.replace('/+', '+')\n",
    "wine_dataframe['Olphactive'] = wine_dataframe['Olphactive'].str.replace(',+', '+')\n",
    "wine_dataframe['Aromas'] = wine_dataframe['Aromas'].str.replace('Ã©', 'é')\n",
    "wine_dataframe['Aromas'] = wine_dataframe['Aromas'].str.replace('Ã‰', 'é')\n",
    "wine_dataframe['Olphactive'] = wine_dataframe['Olphactive'].str.replace('Ã©', 'é')\n",
    "wine_dataframe['Olphactive'] = wine_dataframe['Olphactive'].str.replace('Ã‰', 'é')\n",
    "wine_dataframe['Aromas'] = wine_dataframe['Aromas'].str.lower()\n",
    "wine_dataframe['Olphactive'] = wine_dataframe['Olphactive'].str.lower()\n",
    "wine_dataframe['Aromas'] = wine_dataframe['Aromas'].str.lstrip('+')\n",
    "wine_dataframe['Olphactive'] = wine_dataframe['Olphactive'].str.lstrip('+')\n",
    "wine_dataframe['Aromas'] = wine_dataframe['Aromas'].str.split('+')\n",
    "wine_dataframe['Olphactive'] = wine_dataframe['Olphactive'].str.split('+')\n",
    "\n",
    "wine_dataframe['Aromas'] = wine_dataframe['Aromas'].apply(lambda x: [] if isinstance(x, float) else x)\n",
    "wine_dataframe['Olphactive'] = wine_dataframe['Olphactive'].apply(lambda x: [] if isinstance(x, float) else x)\n",
    "print(wine_dataframe.describe())"
   ]
  },
  {
   "cell_type": "code",
   "execution_count": 5,
   "metadata": {},
   "outputs": [
    {
     "name": "stdout",
     "output_type": "stream",
     "text": [
      "list    11382\n",
      "Name: Olphactive, dtype: int64\n"
     ]
    }
   ],
   "source": [
    "value_counts = wine_dataframe['Olphactive'].apply(lambda x: type(x).__name__).value_counts()\n",
    "print(value_counts)"
   ]
  },
  {
   "cell_type": "code",
   "execution_count": 9,
   "metadata": {},
   "outputs": [
    {
     "name": "stdout",
     "output_type": "stream",
     "text": [
      "Chardonnay    8108\n",
      "Riesling      3274\n",
      "Name: Cépages, dtype: int64\n"
     ]
    }
   ],
   "source": [
    "from sklearn.preprocessing import MultiLabelBinarizer\n",
    "mlb = MultiLabelBinarizer()\n",
    "Aromas_one_hot_encoded = mlb.fit_transform(wine_dataframe['Aromas'])\n",
    "Aromas_df_encoded = pd.DataFrame(Aromas_one_hot_encoded, columns=mlb.classes_)\n",
    "Olphactive_one_hot_encoded = mlb.fit_transform(wine_dataframe['Olphactive'])\n",
    "Olphactive_df_encoded = pd.DataFrame(Olphactive_one_hot_encoded, columns=mlb.classes_)\n",
    "df_concatenated_0 = pd.concat([wine_dataframe, Aromas_df_encoded], axis=1)\n",
    "df_concatenated = pd.concat([df_concatenated_0, Olphactive_df_encoded], axis=1)\n",
    "\n",
    "df_concatenated.drop('Aromas', axis=1, inplace=True)\n",
    "df_concatenated.drop('Olphactive', axis=1, inplace=True)\n",
    "\n",
    "# count the number of observations per variety\n",
    "counts = df_concatenated['Cépages'].value_counts()\n",
    "print(counts)"
   ]
  },
  {
   "cell_type": "code",
   "execution_count": 8,
   "metadata": {},
   "outputs": [
    {
     "name": "stdout",
     "output_type": "stream",
     "text": [
      "Chardonnay    5633\n",
      "Riesling      2820\n",
      "Name: Cépages, dtype: int64\n"
     ]
    }
   ],
   "source": [
    "for i, row in df_concatenated.iterrows():\n",
    "    if row['Léger to Puissant'] == 0 and row['Souple to Tannique'] == 0 and row['Sec to Moelleux'] == 0 and row['Doux to Acide'] == 0:\n",
    "        df_concatenated = df_concatenated.drop(i) \n",
    "print(df_concatenated['Cépages'].value_counts())"
   ]
  },
  {
   "cell_type": "code",
   "execution_count": 9,
   "metadata": {},
   "outputs": [],
   "source": [
    "from sklearn.model_selection import train_test_split\n",
    "X = df_concatenated.drop('Cépages', axis=1)\n",
    "y = df_concatenated['Cépages']\n",
    "#X = X.values\n",
    "#y = y.tolist()\n",
    "from sklearn.svm import SVC\n",
    "from sklearn.metrics import accuracy_score\n",
    "import matplotlib.pyplot as plt\n",
    "X_train, X_test, y_train, y_test = train_test_split(X, y, test_size = 0.10, random_state=42)\n"
   ]
  },
  {
   "cell_type": "code",
   "execution_count": 10,
   "metadata": {},
   "outputs": [],
   "source": [
    "train_merged = pd.merge(X_train, y_train, left_index=True, right_index=True, how='inner') \n",
    "train_merged_deleted = train_merged[(train_merged['Léger to Puissant'] != 0) |\n",
    "                               (train_merged['Souple to Tannique'] != 0) |\n",
    "                               (train_merged['Sec to Moelleux'] != 0) |\n",
    "                               (train_merged['Doux to Acide'] != 0)]\n",
    "\n",
    "means = train_merged_deleted.groupby('Cépages').mean()\n",
    "for i, row in train_merged.iterrows():\n",
    "    if row['Léger to Puissant'] == 0 and row['Souple to Tannique'] == 0 and row['Sec to Moelleux'] == 0 and row['Doux to Acide'] == 0:\n",
    "        train_merged.loc[i, 'Léger to Puissant'] = means.loc[row['Cépages'], 'Léger to Puissant']\n",
    "        train_merged.loc[i, 'Souple to Tannique'] = means.loc[row['Cépages'], 'Souple to Tannique']\n",
    "        train_merged.loc[i, 'Sec to Moelleux'] = means.loc[row['Cépages'], 'Sec to Moelleux']\n",
    "        train_merged.loc[i, 'Doux to Acide'] = means.loc[row['Cépages'], 'Doux to Acide']\n",
    "X_train = train_merged.drop('Cépages', axis=1)\n",
    "y_train = train_merged['Cépages']\n",
    "\n",
    "test_merged = pd.merge(X_test, y_test, left_index=True, right_index=True, how='inner') \n",
    "for i, row in test_merged.iterrows():\n",
    "    if row['Léger to Puissant'] == 0 and row['Souple to Tannique'] == 0 and row['Sec to Moelleux'] == 0 and row['Doux to Acide'] == 0:\n",
    "        test_merged = test_merged.drop(i) \n",
    "\n",
    "X_test = test_merged.drop('Cépages', axis=1)\n",
    "y_test = test_merged['Cépages']\n",
    "\n",
    "X_train = X_train.values\n",
    "y_train = y_train.tolist()\n",
    "X_test = X_test.values\n",
    "y_test = y_test.tolist()\n",
    "\n"
   ]
  },
  {
   "cell_type": "markdown",
   "metadata": {},
   "source": [
    "# 2) PREDICT"
   ]
  },
  {
   "cell_type": "code",
   "execution_count": 11,
   "metadata": {},
   "outputs": [
    {
     "name": "stdout",
     "output_type": "stream",
     "text": [
      "              precision    recall  f1-score   support\n",
      "\n",
      "  Chardonnay       0.98      0.98      0.98       566\n",
      "    Riesling       0.96      0.95      0.96       280\n",
      "\n",
      "    accuracy                           0.97       846\n",
      "   macro avg       0.97      0.97      0.97       846\n",
      "weighted avg       0.97      0.97      0.97       846\n",
      "\n"
     ]
    }
   ],
   "source": [
    "classifier = SVC(C=100.0, kernel='rbf', degree=3, gamma='auto')\n",
    "classifier.fit(X_train, y_train)\n",
    "#Prediction sur le Test set\n",
    "y_pred = classifier.predict(X_test)\n",
    "\n",
    "from sklearn.metrics import classification_report\n",
    "print(classification_report(y_test, y_pred))"
   ]
  },
  {
   "cell_type": "code",
   "execution_count": 12,
   "metadata": {},
   "outputs": [],
   "source": [
    "from sklearn.svm import SVC\n",
    "from sklearn.model_selection import GridSearchCV\n",
    "svm_model = SVC()\n",
    "param_grid = {'C': [100, 150, 200], 'kernel': ['rbf'], 'gamma': ['auto']}"
   ]
  },
  {
   "cell_type": "code",
   "execution_count": 13,
   "metadata": {},
   "outputs": [
    {
     "name": "stdout",
     "output_type": "stream",
     "text": [
      "Fitting 3 folds for each of 3 candidates, totalling 9 fits\n",
      "[CV 1/3] END .....C=100, gamma=auto, kernel=rbf;, score=0.977 total time=   1.7s\n",
      "[CV 2/3] END .....C=100, gamma=auto, kernel=rbf;, score=0.969 total time=   1.5s\n",
      "[CV 3/3] END .....C=100, gamma=auto, kernel=rbf;, score=0.976 total time=   1.6s\n",
      "[CV 1/3] END .....C=150, gamma=auto, kernel=rbf;, score=0.976 total time=   1.6s\n",
      "[CV 2/3] END .....C=150, gamma=auto, kernel=rbf;, score=0.968 total time=   1.5s\n",
      "[CV 3/3] END .....C=150, gamma=auto, kernel=rbf;, score=0.976 total time=   1.6s\n",
      "[CV 1/3] END .....C=200, gamma=auto, kernel=rbf;, score=0.976 total time=   1.7s\n",
      "[CV 2/3] END .....C=200, gamma=auto, kernel=rbf;, score=0.968 total time=   1.6s\n",
      "[CV 3/3] END .....C=200, gamma=auto, kernel=rbf;, score=0.976 total time=   1.6s\n"
     ]
    },
    {
     "data": {
      "text/plain": [
       "GridSearchCV(cv=3, estimator=SVC(),\n",
       "             param_grid={'C': [100, 150, 200], 'gamma': ['auto'],\n",
       "                         'kernel': ['rbf']},\n",
       "             scoring='accuracy', verbose=4)"
      ]
     },
     "execution_count": 13,
     "metadata": {},
     "output_type": "execute_result"
    }
   ],
   "source": [
    "grid_search = GridSearchCV(svm_model, param_grid, cv=3, verbose = 4, scoring='accuracy')\n",
    "grid_search.fit(X_train, y_train)"
   ]
  },
  {
   "cell_type": "code",
   "execution_count": 14,
   "metadata": {},
   "outputs": [
    {
     "name": "stdout",
     "output_type": "stream",
     "text": [
      "Best hyperparameters:  {'C': 100, 'gamma': 'auto', 'kernel': 'rbf'}\n",
      "Best score:  0.9739715486864237\n"
     ]
    }
   ],
   "source": [
    "print(\"Best hyperparameters: \", grid_search.best_params_)\n",
    "print(\"Best score: \", grid_search.best_score_)"
   ]
  },
  {
   "cell_type": "code",
   "execution_count": 15,
   "metadata": {},
   "outputs": [
    {
     "data": {
      "image/png": "[encoded data removed]",
      "text/plain": [
       "<Figure size 432x288 with 2 Axes>"
      ]
     },
     "metadata": {
      "needs_background": "light"
     },
     "output_type": "display_data"
    }
   ],
   "source": [
    "from sklearn import metrics\n",
    "import matplotlib.pyplot as plt\n",
    "confusion_matrix = metrics.confusion_matrix(y_test,y_pred)\n",
    "cm_display = metrics.ConfusionMatrixDisplay(confusion_matrix = confusion_matrix, display_labels = [\"Chardonnay\",\"Riesling\"])\n",
    "\n",
    "cm_display.plot()\n",
    "plt.show()"
   ]
  },
  {
   "cell_type": "code",
   "execution_count": null,
   "metadata": {},
   "outputs": [],
   "source": []
  }
 ],
 "metadata": {
  "kernelspec": {
   "display_name": "Python 3",
   "language": "python",
   "name": "python3"
  },
  "language_info": {
   "codemirror_mode": {
    "name": "ipython",
    "version": 3
   },
   "file_extension": ".py",
   "mimetype": "text/x-python",
   "name": "python",
   "nbconvert_exporter": "python",
   "pygments_lexer": "ipython3",
   "version": "3.7.6"
  }
 },
 "nbformat": 4,
 "nbformat_minor": 4
}
