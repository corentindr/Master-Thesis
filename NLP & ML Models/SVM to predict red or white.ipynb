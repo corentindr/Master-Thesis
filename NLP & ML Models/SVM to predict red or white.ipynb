{
 "cells": [
  {
   "cell_type": "code",
   "execution_count": 3,
   "metadata": {},
   "outputs": [],
   "source": [
    "#Import du data set et des libs\n",
    "\n",
    "from sklearn import datasets\n",
    "import matplotlib.pyplot as plt\n",
    "import seaborn as sns\n",
    "import pandas as pd\n",
    "import numpy as np"
   ]
  },
  {
   "cell_type": "markdown",
   "metadata": {},
   "source": []
  },
  {
   "cell_type": "code",
   "execution_count": 4,
   "metadata": {},
   "outputs": [
    {
     "name": "stdout",
     "output_type": "stream",
     "text": [
      "35218\n"
     ]
    }
   ],
   "source": [
    "#chargement du jeu de donnees\n",
    "wine_dataframe = pd.read_csv('modified_datatest.csv', index_col=0)\n",
    "print(len(wine_dataframe))\n",
    "wine_dataframe = wine_dataframe.drop('URLS', axis=1)\n",
    "wine_dataframe = wine_dataframe.drop('Tranquille to Mousseux', axis=1)\n",
    "wine_dataframe = wine_dataframe.drop('Cépages', axis=1)\n",
    "\n",
    "wine_dataframe['Léger to Puissant'] = wine_dataframe['Léger to Puissant'].str.replace(';', '')\n",
    "wine_dataframe['Souple to Tannique'] = wine_dataframe['Souple to Tannique'].str.replace(';', '')\n",
    "wine_dataframe['Sec to Moelleux'] = wine_dataframe['Sec to Moelleux'].str.replace(';', '')\n",
    "wine_dataframe['Doux to Acide'] = wine_dataframe['Doux to Acide'].str.replace(';', '')\n",
    "wine_dataframe['Léger to Puissant'] = wine_dataframe['Léger to Puissant'].astype(float)\n",
    "wine_dataframe['Souple to Tannique'] = wine_dataframe['Souple to Tannique'].astype(float)\n",
    "wine_dataframe['Sec to Moelleux'] = wine_dataframe['Sec to Moelleux'].astype(float)\n",
    "wine_dataframe['Doux to Acide'] = wine_dataframe['Doux to Acide'].astype(float)"
   ]
  },
  {
   "cell_type": "code",
   "execution_count": 5,
   "metadata": {},
   "outputs": [
    {
     "name": "stderr",
     "output_type": "stream",
     "text": [
      "/opt/tljh/user/lib/python3.7/site-packages/ipykernel_launcher.py:1: FutureWarning: The default value of regex will change from True to False in a future version.\n",
      "  \"\"\"Entry point for launching an IPython kernel.\n",
      "/opt/tljh/user/lib/python3.7/site-packages/ipykernel_launcher.py:2: FutureWarning: The default value of regex will change from True to False in a future version.\n",
      "  \n",
      "/opt/tljh/user/lib/python3.7/site-packages/ipykernel_launcher.py:3: FutureWarning: The default value of regex will change from True to False in a future version.\n",
      "  This is separate from the ipykernel package so we can avoid doing imports until\n",
      "/opt/tljh/user/lib/python3.7/site-packages/ipykernel_launcher.py:4: FutureWarning: The default value of regex will change from True to False in a future version.\n",
      "  after removing the cwd from sys.path.\n"
     ]
    },
    {
     "name": "stdout",
     "output_type": "stream",
     "text": [
      "       Léger to Puissant  Souple to Tannique  Sec to Moelleux  Doux to Acide  \\\n",
      "count       35218.000000        35218.000000     35218.000000   35218.000000   \n",
      "mean           39.965001           19.491293        19.386413      37.882006   \n",
      "std            29.311771           23.718340        15.306354      28.274971   \n",
      "min             0.000000            0.000000         0.000000       0.000000   \n",
      "25%             0.000000            0.000000         0.000000       0.000000   \n",
      "50%            51.000000            0.000000        23.578555      50.105424   \n",
      "75%            63.804147           40.940347        30.224412      59.500000   \n",
      "max            85.000000           85.000000        85.000000      85.000000   \n",
      "\n",
      "                Red  \n",
      "count  35218.000000  \n",
      "mean       0.676813  \n",
      "std        0.467700  \n",
      "min        0.000000  \n",
      "25%        0.000000  \n",
      "50%        1.000000  \n",
      "75%        1.000000  \n",
      "max        1.000000  \n"
     ]
    }
   ],
   "source": [
    "wine_dataframe['Aromas'] = wine_dataframe['Aromas'].str.replace('/+', '+')\n",
    "wine_dataframe['Aromas'] = wine_dataframe['Aromas'].str.replace(',+', '+')\n",
    "wine_dataframe['Olphactive'] = wine_dataframe['Olphactive'].str.replace('/+', '+')\n",
    "wine_dataframe['Olphactive'] = wine_dataframe['Olphactive'].str.replace(',+', '+')\n",
    "wine_dataframe['Aromas'] = wine_dataframe['Aromas'].str.replace('Ã©', 'é')\n",
    "wine_dataframe['Aromas'] = wine_dataframe['Aromas'].str.replace('Ã‰', 'é')\n",
    "wine_dataframe['Olphactive'] = wine_dataframe['Olphactive'].str.replace('Ã©', 'é')\n",
    "wine_dataframe['Olphactive'] = wine_dataframe['Olphactive'].str.replace('Ã‰', 'é')\n",
    "wine_dataframe['Aromas'] = wine_dataframe['Aromas'].str.lower()\n",
    "wine_dataframe['Olphactive'] = wine_dataframe['Olphactive'].str.lower()\n",
    "wine_dataframe['Aromas'] = wine_dataframe['Aromas'].str.lstrip('+')\n",
    "wine_dataframe['Olphactive'] = wine_dataframe['Olphactive'].str.lstrip('+')\n",
    "wine_dataframe['Aromas'] = wine_dataframe['Aromas'].str.split('+')\n",
    "wine_dataframe['Olphactive'] = wine_dataframe['Olphactive'].str.split('+')\n",
    "\n",
    "wine_dataframe['Aromas'] = wine_dataframe['Aromas'].apply(lambda x: [] if isinstance(x, float) else x)\n",
    "wine_dataframe['Olphactive'] = wine_dataframe['Olphactive'].apply(lambda x: [] if isinstance(x, float) else x)\n",
    "print(wine_dataframe.describe())"
   ]
  },
  {
   "cell_type": "code",
   "execution_count": 7,
   "metadata": {},
   "outputs": [],
   "source": [
    "from sklearn.preprocessing import MultiLabelBinarizer\n",
    "mlb = MultiLabelBinarizer()\n",
    "Aromas_one_hot_encoded = mlb.fit_transform(wine_dataframe['Aromas'])\n",
    "Aromas_df_encoded = pd.DataFrame(Aromas_one_hot_encoded, columns=mlb.classes_)\n",
    "Olphactive_one_hot_encoded = mlb.fit_transform(wine_dataframe['Olphactive'])\n",
    "Olphactive_df_encoded = pd.DataFrame(Olphactive_one_hot_encoded, columns=mlb.classes_)\n",
    "df_concatenated_0 = pd.concat([wine_dataframe, Aromas_df_encoded], axis=1)\n",
    "df_concatenated = pd.concat([df_concatenated_0, Olphactive_df_encoded], axis=1)\n",
    "\n",
    "df_concatenated.drop('Aromas', axis=1, inplace=True)\n",
    "df_concatenated.drop('Olphactive', axis=1, inplace=True)\n",
    "\n"
   ]
  },
  {
   "cell_type": "code",
   "execution_count": 8,
   "metadata": {},
   "outputs": [],
   "source": [
    "mask = (df_concatenated['Léger to Puissant'] != 0) | (df_concatenated['Souple to Tannique'] != 0) | (df_concatenated['Sec to Moelleux'] != 0) | (df_concatenated['Doux to Acide'] != 0)\n",
    "df_concatenated = df_concatenated[mask]\n"
   ]
  },
  {
   "cell_type": "code",
   "execution_count": 9,
   "metadata": {},
   "outputs": [
    {
     "name": "stdout",
     "output_type": "stream",
     "text": [
      "X_train 21553\n",
      "X_test 2395\n",
      "y_train 21553\n",
      "y_test 2395\n"
     ]
    }
   ],
   "source": [
    "from sklearn.model_selection import train_test_split\n",
    "X = df_concatenated.drop('Red', axis=1)\n",
    "y = df_concatenated['Red']\n",
    "#X = X.values\n",
    "#y = y.tolist()\n",
    "from sklearn.svm import SVC\n",
    "from sklearn.metrics import accuracy_score\n",
    "import matplotlib.pyplot as plt\n",
    "X_train, X_test, y_train, y_test = train_test_split(X, y, test_size = 0.10, random_state=42)\n",
    "print('X_train',len(X_train))\n",
    "print('X_test',len(X_test))\n",
    "print('y_train',len(y_train))\n",
    "print('y_test',len(y_test))"
   ]
  },
  {
   "cell_type": "code",
   "execution_count": 19,
   "metadata": {},
   "outputs": [
    {
     "data": {
      "text/plain": [
       "1    15495\n",
       "0     8453\n",
       "Name: Red, dtype: int64"
      ]
     },
     "execution_count": 19,
     "metadata": {},
     "output_type": "execute_result"
    }
   ],
   "source": [
    "df_concatenated['Red'].value_counts()"
   ]
  },
  {
   "cell_type": "raw",
   "metadata": {},
   "source": [
    "for i, row in train_merged.iterrows():\n",
    "    if row['Léger to Puissant'] == 0 and row['Souple to Tannique'] == 0 and row['Sec to Moelleux'] == 0 and row['Doux to Acide'] == 0:\n",
    "        train_merged.loc[i, 'Léger to Puissant'] = means.loc[row['Cépages'], 'Léger to Puissant']\n",
    "        train_merged.loc[i, 'Souple to Tannique'] = means.loc[row['Cépages'], 'Souple to Tannique']\n",
    "        train_merged.loc[i, 'Sec to Moelleux'] = means.loc[row['Cépages'], 'Sec to Moelleux']\n",
    "        train_merged.loc[i, 'Doux to Acide'] = means.loc[row['Cépages'], 'Doux to Acide']\n",
    "X_train = train_merged.drop('Cépages', axis=1)\n",
    "y_train = train_merged['Cépages']\n",
    "\n",
    "test_merged = pd.merge(X_test, y_test, left_index=True, right_index=True, how='inner') \n",
    "for i, row in test_merged.iterrows():\n",
    "    if row['Léger to Puissant'] == 0 and row['Souple to Tannique'] == 0 and row['Sec to Moelleux'] == 0 and row['Doux to Acide'] == 0:\n",
    "        test_merged = test_merged.drop(i) \n",
    "\n",
    "X_test = test_merged.drop('Cépages', axis=1)\n",
    "y_test = test_merged['Cépages']\n",
    "\n",
    "X_train = X_train.values\n",
    "y_train = y_train.tolist()\n",
    "X_test = X_test.values\n",
    "y_test = y_test.tolist()\n",
    "print('X_train',len(X_train))\n",
    "print('X_test',len(X_test))\n",
    "print('y_train',len(y_train))\n",
    "print('y_test',len(y_test))"
   ]
  },
  {
   "cell_type": "markdown",
   "metadata": {},
   "source": [
    "# 2) PREDICT"
   ]
  },
  {
   "cell_type": "code",
   "execution_count": 15,
   "metadata": {},
   "outputs": [
    {
     "name": "stdout",
     "output_type": "stream",
     "text": [
      "              precision    recall  f1-score   support\n",
      "\n",
      "           0       0.98      1.00      0.99       865\n",
      "           1       1.00      0.99      0.99      1530\n",
      "\n",
      "    accuracy                           0.99      2395\n",
      "   macro avg       0.99      0.99      0.99      2395\n",
      "weighted avg       0.99      0.99      0.99      2395\n",
      "\n"
     ]
    }
   ],
   "source": [
    "classifier = SVC(C=150, kernel='rbf', degree=3, gamma='auto')\n",
    "classifier.fit(X_train, y_train)\n",
    "#Prediction sur le Test set\n",
    "y_pred = classifier.predict(X_test)\n",
    "\n",
    "from sklearn.metrics import classification_report\n",
    "print(classification_report(y_test, y_pred))"
   ]
  },
  {
   "cell_type": "code",
   "execution_count": 21,
   "metadata": {},
   "outputs": [
    {
     "data": {
      "image/png": "[encoded data removed]",
      "text/plain": [
       "<Figure size 432x288 with 2 Axes>"
      ]
     },
     "metadata": {
      "needs_background": "light"
     },
     "output_type": "display_data"
    }
   ],
   "source": [
    "from sklearn import metrics\n",
    "import matplotlib.pyplot as plt\n",
    "fig, ax = plt.subplots()\n",
    "confusion_matrix = metrics.confusion_matrix(y_test, y_pred)\n",
    "cm_display = metrics.ConfusionMatrixDisplay(confusion_matrix=confusion_matrix, display_labels=[\"White\",\"Red\"])\n",
    "cm_display.plot(ax=ax)\n",
    "plt.show()\n"
   ]
  },
  {
   "cell_type": "code",
   "execution_count": 12,
   "metadata": {},
   "outputs": [],
   "source": [
    "from sklearn.svm import SVC\n",
    "from sklearn.model_selection import GridSearchCV\n",
    "svm_model = SVC()\n",
    "param_grid = {'C': [100, 150, 200], 'kernel': ['rbf'], 'gamma': ['auto']}"
   ]
  },
  {
   "cell_type": "code",
   "execution_count": 13,
   "metadata": {},
   "outputs": [
    {
     "name": "stdout",
     "output_type": "stream",
     "text": [
      "Fitting 3 folds for each of 3 candidates, totalling 9 fits\n",
      "[CV 1/3] END .....C=100, gamma=auto, kernel=rbf;, score=0.992 total time=   6.4s\n",
      "[CV 2/3] END .....C=100, gamma=auto, kernel=rbf;, score=0.993 total time=   6.1s\n",
      "[CV 3/3] END .....C=100, gamma=auto, kernel=rbf;, score=0.993 total time=   6.5s\n",
      "[CV 1/3] END .....C=150, gamma=auto, kernel=rbf;, score=0.992 total time=   6.3s\n",
      "[CV 2/3] END .....C=150, gamma=auto, kernel=rbf;, score=0.993 total time=   6.3s\n",
      "[CV 3/3] END .....C=150, gamma=auto, kernel=rbf;, score=0.994 total time=   6.4s\n",
      "[CV 1/3] END .....C=200, gamma=auto, kernel=rbf;, score=0.992 total time=   6.2s\n",
      "[CV 2/3] END .....C=200, gamma=auto, kernel=rbf;, score=0.993 total time=   6.4s\n",
      "[CV 3/3] END .....C=200, gamma=auto, kernel=rbf;, score=0.993 total time=   6.6s\n"
     ]
    },
    {
     "data": {
      "text/plain": [
       "GridSearchCV(cv=3, estimator=SVC(),\n",
       "             param_grid={'C': [100, 150, 200], 'gamma': ['auto'],\n",
       "                         'kernel': ['rbf']},\n",
       "             scoring='accuracy', verbose=4)"
      ]
     },
     "execution_count": 13,
     "metadata": {},
     "output_type": "execute_result"
    }
   ],
   "source": [
    "grid_search = GridSearchCV(svm_model, param_grid, cv=3, verbose = 4, scoring='accuracy')\n",
    "grid_search.fit(X_train, y_train)"
   ]
  },
  {
   "cell_type": "code",
   "execution_count": 14,
   "metadata": {},
   "outputs": [
    {
     "name": "stdout",
     "output_type": "stream",
     "text": [
      "Best hyperparameters:  {'C': 150, 'gamma': 'auto', 'kernel': 'rbf'}\n",
      "Best score:  0.9930868372149972\n"
     ]
    }
   ],
   "source": [
    "print(\"Best hyperparameters: \", grid_search.best_params_)\n",
    "print(\"Best score: \", grid_search.best_score_)"
   ]
  },
  {
   "cell_type": "code",
   "execution_count": null,
   "metadata": {},
   "outputs": [],
   "source": []
  }
 ],
 "metadata": {
  "kernelspec": {
   "display_name": "Python 3",
   "language": "python",
   "name": "python3"
  },
  "language_info": {
   "codemirror_mode": {
    "name": "ipython",
    "version": 3
   },
   "file_extension": ".py",
   "mimetype": "text/x-python",
   "name": "python",
   "nbconvert_exporter": "python",
   "pygments_lexer": "ipython3",
   "version": "3.7.6"
  }
 },
 "nbformat": 4,
 "nbformat_minor": 4
}
