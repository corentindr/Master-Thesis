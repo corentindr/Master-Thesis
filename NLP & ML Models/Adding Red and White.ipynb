{
 "cells": [
  {
   "cell_type": "code",
   "execution_count": 1,
   "metadata": {},
   "outputs": [],
   "source": [
    "import pandas as pd\n",
    "\n",
    "# Two different functions were needed to separate red and white wines \n",
    "# as the syntax across the two different datasets differ a little bit\n",
    "\n",
    "def is_red(variety):\n",
    "    \"\"\"\n",
    "    @param variety : variety of a wine\n",
    "    post : return 1 if it is a red wine variety, 0 otherwise\n",
    "    \"\"\"\n",
    "    red_varieties = [\"Pinot Noir\", \"Cabernet Sauvignon\", \"Merlot\", \"Malbec\", \"Sangiovese\", \"Zinfandel\"]\n",
    "    return 1 if variety in red_varieties else 0\n",
    "\n",
    "\n",
    "def is_red2(variety):\n",
    "    \"\"\"\n",
    "    @param variety : variety of a wine\n",
    "    post : return 1 if it is a red wine variety, 0 otherwise\n",
    "    \"\"\"\n",
    "    red_varieties = [\"Pinot noir\", \"Cabernet-Sauvignon\", \"Merlot\", \"Malbec\", \"Sangiovese\", \"Zinfandel\"]\n",
    "    return 1 if variety in red_varieties else 0\n",
    "\n",
    "\n"
   ]
  },
  {
   "cell_type": "code",
   "execution_count": 5,
   "metadata": {},
   "outputs": [],
   "source": [
    "# read wine_with_good_counts.csv (NLP dataset) and add the new column \"Red\" based on the function is_red\n",
    "vin = pd.read_csv(\"wine_with_good_counts.csv\")\n",
    "vin[\"Red\"] = vin[\"variety\"].apply(is_red)\n",
    "\n",
    "\n",
    "# save modified vin.csv\n",
    "vin.to_csv(\"modified_vin.csv\", index=False)\n",
    "\n",
    "# read vin.csv and add the new column \"Red\" based on the function is_red2\n",
    "datatest = pd.read_csv(\"datatest.csv\")\n",
    "datatest[\"Red\"] = datatest[\"Cépages\"].apply(is_red2)\n",
    "\n",
    "# save modified datatest.csv\n",
    "datatest.to_csv(\"modified_datatest.csv\", index=False)"
   ]
  },
  {
   "cell_type": "code",
   "execution_count": null,
   "metadata": {},
   "outputs": [],
   "source": []
  }
 ],
 "metadata": {
  "kernelspec": {
   "display_name": "Python 3",
   "language": "python",
   "name": "python3"
  },
  "language_info": {
   "codemirror_mode": {
    "name": "ipython",
    "version": 3
   },
   "file_extension": ".py",
   "mimetype": "text/x-python",
   "name": "python",
   "nbconvert_exporter": "python",
   "pygments_lexer": "ipython3",
   "version": "3.7.6"
  }
 },
 "nbformat": 4,
 "nbformat_minor": 4
}
