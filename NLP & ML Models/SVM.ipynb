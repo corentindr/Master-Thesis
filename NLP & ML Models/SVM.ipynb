{
 "cells": [
  {
   "cell_type": "code",
   "execution_count": 1,
   "metadata": {},
   "outputs": [],
   "source": [
    "#Import du data set et des libs\n",
    "%matplotlib inline\n",
    "from sklearn import datasets\n",
    "import matplotlib.pyplot as plt\n",
    "import seaborn as sns\n",
    "import pandas as pd\n",
    "import numpy as np"
   ]
  },
  {
   "cell_type": "code",
   "execution_count": 2,
   "metadata": {},
   "outputs": [
    {
     "name": "stdout",
     "output_type": "stream",
     "text": [
      "35218\n"
     ]
    }
   ],
   "source": [
    "#chargement du jeu de donnees\n",
    "wine_dataframe = pd.read_csv('datatest.csv', index_col=0)\n",
    "print(len(wine_dataframe))\n",
    "wine_dataframe = wine_dataframe.drop('URLS', axis=1)\n",
    "wine_dataframe = wine_dataframe.drop('Tranquille to Mousseux', axis=1)\n",
    "\n",
    "wine_dataframe['Léger to Puissant'] = wine_dataframe['Léger to Puissant'].str.replace(';', '')\n",
    "wine_dataframe['Souple to Tannique'] = wine_dataframe['Souple to Tannique'].str.replace(';', '')\n",
    "wine_dataframe['Sec to Moelleux'] = wine_dataframe['Sec to Moelleux'].str.replace(';', '')\n",
    "wine_dataframe['Doux to Acide'] = wine_dataframe['Doux to Acide'].str.replace(';', '')\n",
    "wine_dataframe['Léger to Puissant'] = wine_dataframe['Léger to Puissant'].astype(float)\n",
    "wine_dataframe['Souple to Tannique'] = wine_dataframe['Souple to Tannique'].astype(float)\n",
    "wine_dataframe['Sec to Moelleux'] = wine_dataframe['Sec to Moelleux'].astype(float)\n",
    "wine_dataframe['Doux to Acide'] = wine_dataframe['Doux to Acide'].astype(float)"
   ]
  },
  {
   "cell_type": "code",
   "execution_count": 3,
   "metadata": {},
   "outputs": [
    {
     "name": "stderr",
     "output_type": "stream",
     "text": [
      "/opt/tljh/user/lib/python3.7/site-packages/ipykernel_launcher.py:1: FutureWarning: The default value of regex will change from True to False in a future version.\n",
      "  \"\"\"Entry point for launching an IPython kernel.\n",
      "/opt/tljh/user/lib/python3.7/site-packages/ipykernel_launcher.py:2: FutureWarning: The default value of regex will change from True to False in a future version.\n",
      "  \n",
      "/opt/tljh/user/lib/python3.7/site-packages/ipykernel_launcher.py:3: FutureWarning: The default value of regex will change from True to False in a future version.\n",
      "  This is separate from the ipykernel package so we can avoid doing imports until\n",
      "/opt/tljh/user/lib/python3.7/site-packages/ipykernel_launcher.py:4: FutureWarning: The default value of regex will change from True to False in a future version.\n",
      "  after removing the cwd from sys.path.\n"
     ]
    },
    {
     "name": "stdout",
     "output_type": "stream",
     "text": [
      "       Léger to Puissant  Souple to Tannique  Sec to Moelleux  Doux to Acide\n",
      "count       35218.000000        35218.000000     35218.000000   35218.000000\n",
      "mean           39.965001           19.491293        19.386413      37.882006\n",
      "std            29.311771           23.718340        15.306354      28.274971\n",
      "min             0.000000            0.000000         0.000000       0.000000\n",
      "25%             0.000000            0.000000         0.000000       0.000000\n",
      "50%            51.000000            0.000000        23.578555      50.105424\n",
      "75%            63.804147           40.940347        30.224412      59.500000\n",
      "max            85.000000           85.000000        85.000000      85.000000\n"
     ]
    }
   ],
   "source": [
    "wine_dataframe['Aromas'] = wine_dataframe['Aromas'].str.replace('/+', '+')\n",
    "wine_dataframe['Aromas'] = wine_dataframe['Aromas'].str.replace(',+', '+')\n",
    "wine_dataframe['Olphactive'] = wine_dataframe['Olphactive'].str.replace('/+', '+')\n",
    "wine_dataframe['Olphactive'] = wine_dataframe['Olphactive'].str.replace(',+', '+')\n",
    "wine_dataframe['Aromas'] = wine_dataframe['Aromas'].str.replace('Ã©', 'é')\n",
    "wine_dataframe['Aromas'] = wine_dataframe['Aromas'].str.replace('Ã‰', 'é')\n",
    "wine_dataframe['Olphactive'] = wine_dataframe['Olphactive'].str.replace('Ã©', 'é')\n",
    "wine_dataframe['Olphactive'] = wine_dataframe['Olphactive'].str.replace('Ã‰', 'é')\n",
    "wine_dataframe['Aromas'] = wine_dataframe['Aromas'].str.lower()\n",
    "wine_dataframe['Olphactive'] = wine_dataframe['Olphactive'].str.lower()\n",
    "wine_dataframe['Aromas'] = wine_dataframe['Aromas'].str.lstrip('+')\n",
    "wine_dataframe['Olphactive'] = wine_dataframe['Olphactive'].str.lstrip('+')\n",
    "wine_dataframe['Aromas'] = wine_dataframe['Aromas'].str.split('+')\n",
    "wine_dataframe['Olphactive'] = wine_dataframe['Olphactive'].str.split('+')\n",
    "\n",
    "wine_dataframe['Aromas'] = wine_dataframe['Aromas'].apply(lambda x: [] if isinstance(x, float) else x)\n",
    "wine_dataframe['Olphactive'] = wine_dataframe['Olphactive'].apply(lambda x: [] if isinstance(x, float) else x)\n",
    "print(wine_dataframe.describe())"
   ]
  },
  {
   "cell_type": "code",
   "execution_count": 4,
   "metadata": {},
   "outputs": [
    {
     "name": "stdout",
     "output_type": "stream",
     "text": [
      "Pinot noir            8378\n",
      "Cabernet-Sauvignon    8127\n",
      "Chardonnay            8108\n",
      "Riesling              3274\n",
      "Merlot                3111\n",
      "Malbec                1582\n",
      "Sangiovese            1414\n",
      "Zinfandel             1224\n",
      "Name: Cépages, dtype: int64\n"
     ]
    }
   ],
   "source": [
    "from sklearn.preprocessing import MultiLabelBinarizer\n",
    "mlb = MultiLabelBinarizer()\n",
    "Aromas_one_hot_encoded = mlb.fit_transform(wine_dataframe['Aromas'])\n",
    "Aromas_df_encoded = pd.DataFrame(Aromas_one_hot_encoded, columns=mlb.classes_)\n",
    "Olphactive_one_hot_encoded = mlb.fit_transform(wine_dataframe['Olphactive'])\n",
    "Olphactive_df_encoded = pd.DataFrame(Olphactive_one_hot_encoded, columns=mlb.classes_)\n",
    "df_concatenated_0 = pd.concat([wine_dataframe, Aromas_df_encoded], axis=1)\n",
    "df_concatenated = pd.concat([df_concatenated_0, Olphactive_df_encoded], axis=1)\n",
    "\n",
    "df_concatenated.drop('Aromas', axis=1, inplace=True)\n",
    "df_concatenated.drop('Olphactive', axis=1, inplace=True)\n",
    "\n",
    "# count the number of observations per variety\n",
    "counts = df_concatenated['Cépages'].value_counts()\n",
    "\n",
    "# print the counts\n",
    "print(counts)"
   ]
  },
  {
   "cell_type": "code",
   "execution_count": 5,
   "metadata": {},
   "outputs": [
    {
     "name": "stdout",
     "output_type": "stream",
     "text": [
      "Pinot noir            5888\n",
      "Chardonnay            5633\n",
      "Cabernet-Sauvignon    4405\n",
      "Riesling              2820\n",
      "Merlot                2209\n",
      "Malbec                1263\n",
      "Zinfandel              940\n",
      "Sangiovese             790\n",
      "Name: Cépages, dtype: int64\n"
     ]
    }
   ],
   "source": [
    "mask = (df_concatenated['Léger to Puissant'] != 0) | (df_concatenated['Souple to Tannique'] != 0) | (df_concatenated['Sec to Moelleux'] != 0) | (df_concatenated['Doux to Acide'] != 0)\n",
    "df_concatenated = df_concatenated[mask]\n",
    "counts = df_concatenated['Cépages'].value_counts()\n",
    "print(counts)"
   ]
  },
  {
   "cell_type": "code",
   "execution_count": 6,
   "metadata": {},
   "outputs": [
    {
     "name": "stdout",
     "output_type": "stream",
     "text": [
      "X_train 21553\n",
      "X_test 2395\n",
      "y_train 21553\n",
      "y_test 2395\n"
     ]
    }
   ],
   "source": [
    "from sklearn.model_selection import train_test_split\n",
    "X = df_concatenated.drop('Cépages', axis=1)\n",
    "y = df_concatenated['Cépages']\n",
    "#X = X.values\n",
    "#y = y.tolist()\n",
    "from sklearn.svm import SVC\n",
    "from sklearn.metrics import accuracy_score\n",
    "import matplotlib.pyplot as plt\n",
    "X_train, X_test, y_train, y_test = train_test_split(X, y, test_size = 0.10, random_state=42)\n",
    "print('X_train',len(X_train))\n",
    "print('X_test',len(X_test))\n",
    "print('y_train',len(y_train))\n",
    "print('y_test',len(y_test))"
   ]
  },
  {
   "cell_type": "raw",
   "metadata": {},
   "source": [
    "for i, row in train_merged.iterrows():\n",
    "    if row['Léger to Puissant'] == 0 and row['Souple to Tannique'] == 0 and row['Sec to Moelleux'] == 0 and row['Doux to Acide'] == 0:\n",
    "        train_merged.loc[i, 'Léger to Puissant'] = means.loc[row['Cépages'], 'Léger to Puissant']\n",
    "        train_merged.loc[i, 'Souple to Tannique'] = means.loc[row['Cépages'], 'Souple to Tannique']\n",
    "        train_merged.loc[i, 'Sec to Moelleux'] = means.loc[row['Cépages'], 'Sec to Moelleux']\n",
    "        train_merged.loc[i, 'Doux to Acide'] = means.loc[row['Cépages'], 'Doux to Acide']\n",
    "X_train = train_merged.drop('Cépages', axis=1)\n",
    "y_train = train_merged['Cépages']\n",
    "\n",
    "test_merged = pd.merge(X_test, y_test, left_index=True, right_index=True, how='inner') \n",
    "for i, row in test_merged.iterrows():\n",
    "    if row['Léger to Puissant'] == 0 and row['Souple to Tannique'] == 0 and row['Sec to Moelleux'] == 0 and row['Doux to Acide'] == 0:\n",
    "        test_merged = test_merged.drop(i) \n",
    "\n",
    "X_test = test_merged.drop('Cépages', axis=1)\n",
    "y_test = test_merged['Cépages']\n",
    "\n",
    "X_train = X_train.values\n",
    "y_train = y_train.tolist()\n",
    "X_test = X_test.values\n",
    "y_test = y_test.tolist()\n",
    "print('X_train',len(X_train))\n",
    "print('X_test',len(X_test))\n",
    "print('y_train',len(y_train))\n",
    "print('y_test',len(y_test))"
   ]
  },
  {
   "cell_type": "markdown",
   "metadata": {},
   "source": [
    "# 2) PREDICT"
   ]
  },
  {
   "cell_type": "code",
   "execution_count": 7,
   "metadata": {},
   "outputs": [
    {
     "name": "stdout",
     "output_type": "stream",
     "text": [
      "                    precision    recall  f1-score   support\n",
      "\n",
      "Cabernet-Sauvignon       0.86      0.94      0.90       427\n",
      "        Chardonnay       0.95      0.98      0.96       590\n",
      "            Malbec       0.86      0.87      0.87       110\n",
      "            Merlot       0.90      0.79      0.84       228\n",
      "        Pinot noir       0.99      0.95      0.97       597\n",
      "          Riesling       0.96      0.95      0.96       275\n",
      "        Sangiovese       0.86      0.83      0.84        75\n",
      "         Zinfandel       0.93      0.89      0.91        93\n",
      "\n",
      "          accuracy                           0.93      2395\n",
      "         macro avg       0.91      0.90      0.91      2395\n",
      "      weighted avg       0.93      0.93      0.93      2395\n",
      "\n"
     ]
    }
   ],
   "source": [
    "classifier = SVC(C=100.0, kernel='rbf', degree=3, gamma='auto')\n",
    "classifier.fit(X_train, y_train)\n",
    "#Prediction sur le Test set\n",
    "y_pred = classifier.predict(X_test)\n",
    "\n",
    "from sklearn.metrics import classification_report\n",
    "print(classification_report(y_test, y_pred))"
   ]
  },
  {
   "cell_type": "code",
   "execution_count": 8,
   "metadata": {},
   "outputs": [
    {
     "data": {
      "image/png": "[encoded data removed]",
      "text/plain": [
       "<Figure size 1080x1080 with 2 Axes>"
      ]
     },
     "metadata": {
      "needs_background": "light"
     },
     "output_type": "display_data"
    }
   ],
   "source": [
    "from sklearn import metrics\n",
    "import matplotlib.pyplot as plt\n",
    "fig, ax = plt.subplots(figsize=(15, 15))\n",
    "confusion_matrix = metrics.confusion_matrix(y_test, y_pred)\n",
    "cm_display = metrics.ConfusionMatrixDisplay(confusion_matrix=confusion_matrix, display_labels=[\"Cabernet Sauvignon\" ,\"Chardonnay\", \"Malbec\",\"Merlot\",\"Pinot Noir\",\"Riesling\",\"Sangiovese\",\"Zinfandel\"])\n",
    "cm_display.plot(ax=ax)\n",
    "plt.savefig('wine_confusion_matrix.png', dpi=300)\n",
    "plt.show()\n"
   ]
  },
  {
   "cell_type": "code",
   "execution_count": 27,
   "metadata": {},
   "outputs": [],
   "source": [
    "from sklearn.svm import SVC\n",
    "from sklearn.model_selection import GridSearchCV\n",
    "svm_model = SVC()\n",
    "param_grid = {'C': [100, 150, 200], 'kernel': ['rbf'], 'gamma': ['auto']}"
   ]
  },
  {
   "cell_type": "code",
   "execution_count": 28,
   "metadata": {},
   "outputs": [
    {
     "name": "stdout",
     "output_type": "stream",
     "text": [
      "Fitting 3 folds for each of 3 candidates, totalling 9 fits\n",
      "[CV 1/3] END .....C=100, gamma=auto, kernel=rbf;, score=0.955 total time=  31.7s\n",
      "[CV 2/3] END .....C=100, gamma=auto, kernel=rbf;, score=0.956 total time=  31.9s\n",
      "[CV 3/3] END .....C=100, gamma=auto, kernel=rbf;, score=0.957 total time=  32.2s\n",
      "[CV 1/3] END .....C=150, gamma=auto, kernel=rbf;, score=0.955 total time=  31.4s\n",
      "[CV 2/3] END .....C=150, gamma=auto, kernel=rbf;, score=0.956 total time=  33.1s\n",
      "[CV 3/3] END .....C=150, gamma=auto, kernel=rbf;, score=0.957 total time=  30.7s\n",
      "[CV 1/3] END .....C=200, gamma=auto, kernel=rbf;, score=0.955 total time=  31.8s\n",
      "[CV 2/3] END .....C=200, gamma=auto, kernel=rbf;, score=0.955 total time=  33.0s\n",
      "[CV 3/3] END .....C=200, gamma=auto, kernel=rbf;, score=0.957 total time=  33.0s\n"
     ]
    },
    {
     "data": {
      "text/plain": [
       "GridSearchCV(cv=3, estimator=SVC(),\n",
       "             param_grid={'C': [100, 150, 200], 'gamma': ['auto'],\n",
       "                         'kernel': ['rbf']},\n",
       "             scoring='accuracy', verbose=4)"
      ]
     },
     "execution_count": 28,
     "metadata": {},
     "output_type": "execute_result"
    }
   ],
   "source": [
    "grid_search = GridSearchCV(svm_model, param_grid, cv=3, verbose = 4, scoring='accuracy')\n",
    "grid_search.fit(X_train, y_train)"
   ]
  },
  {
   "cell_type": "code",
   "execution_count": 29,
   "metadata": {},
   "outputs": [
    {
     "name": "stdout",
     "output_type": "stream",
     "text": [
      "Best hyperparameters:  {'C': 100, 'gamma': 'auto', 'kernel': 'rbf'}\n",
      "Best score:  0.9563427650200443\n"
     ]
    }
   ],
   "source": [
    "print(\"Best hyperparameters: \", grid_search.best_params_)\n",
    "print(\"Best score: \", grid_search.best_score_)"
   ]
  },
  {
   "cell_type": "code",
   "execution_count": null,
   "metadata": {},
   "outputs": [],
   "source": []
  }
 ],
 "metadata": {
  "kernelspec": {
   "display_name": "Python 3",
   "language": "python",
   "name": "python3"
  },
  "language_info": {
   "codemirror_mode": {
    "name": "ipython",
    "version": 3
   },
   "file_extension": ".py",
   "mimetype": "text/x-python",
   "name": "python",
   "nbconvert_exporter": "python",
   "pygments_lexer": "ipython3",
   "version": "3.7.6"
  }
 },
 "nbformat": 4,
 "nbformat_minor": 4
}
